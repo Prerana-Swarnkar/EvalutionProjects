{
 "cells": [
  {
   "cell_type": "code",
   "execution_count": 1,
   "metadata": {},
   "outputs": [],
   "source": [
    "#Import Libraries\n",
    "import pandas as pd\n",
    "import numpy as np\n",
    "import matplotlib.pyplot as plt\n",
    "import seaborn as sns\n",
    "\n",
    "#import warnings\n",
    "import warnings\n",
    "warnings.filterwarnings('ignore')"
   ]
  },
  {
   "cell_type": "code",
   "execution_count": 2,
   "metadata": {},
   "outputs": [
    {
     "data": {
      "text/html": [
       "<div>\n",
       "<style scoped>\n",
       "    .dataframe tbody tr th:only-of-type {\n",
       "        vertical-align: middle;\n",
       "    }\n",
       "\n",
       "    .dataframe tbody tr th {\n",
       "        vertical-align: top;\n",
       "    }\n",
       "\n",
       "    .dataframe thead th {\n",
       "        text-align: right;\n",
       "    }\n",
       "</style>\n",
       "<table border=\"1\" class=\"dataframe\">\n",
       "  <thead>\n",
       "    <tr style=\"text-align: right;\">\n",
       "      <th></th>\n",
       "      <th>Unnamed: 0</th>\n",
       "      <th>Date</th>\n",
       "      <th>AveragePrice</th>\n",
       "      <th>Total Volume</th>\n",
       "      <th>4046</th>\n",
       "      <th>4225</th>\n",
       "      <th>4770</th>\n",
       "      <th>Total Bags</th>\n",
       "      <th>Small Bags</th>\n",
       "      <th>Large Bags</th>\n",
       "      <th>XLarge Bags</th>\n",
       "      <th>type</th>\n",
       "      <th>year</th>\n",
       "      <th>region</th>\n",
       "    </tr>\n",
       "  </thead>\n",
       "  <tbody>\n",
       "    <tr>\n",
       "      <th>0</th>\n",
       "      <td>0</td>\n",
       "      <td>2015-12-27</td>\n",
       "      <td>1.33</td>\n",
       "      <td>64236.62</td>\n",
       "      <td>1036.74</td>\n",
       "      <td>54454.85</td>\n",
       "      <td>48.16</td>\n",
       "      <td>8696.87</td>\n",
       "      <td>8603.62</td>\n",
       "      <td>93.25</td>\n",
       "      <td>0.00</td>\n",
       "      <td>conventional</td>\n",
       "      <td>2015</td>\n",
       "      <td>Albany</td>\n",
       "    </tr>\n",
       "    <tr>\n",
       "      <th>1</th>\n",
       "      <td>1</td>\n",
       "      <td>2015-12-20</td>\n",
       "      <td>1.35</td>\n",
       "      <td>54876.98</td>\n",
       "      <td>674.28</td>\n",
       "      <td>44638.81</td>\n",
       "      <td>58.33</td>\n",
       "      <td>9505.56</td>\n",
       "      <td>9408.07</td>\n",
       "      <td>97.49</td>\n",
       "      <td>0.00</td>\n",
       "      <td>conventional</td>\n",
       "      <td>2015</td>\n",
       "      <td>Albany</td>\n",
       "    </tr>\n",
       "    <tr>\n",
       "      <th>2</th>\n",
       "      <td>2</td>\n",
       "      <td>2015-12-13</td>\n",
       "      <td>0.93</td>\n",
       "      <td>118220.22</td>\n",
       "      <td>794.70</td>\n",
       "      <td>109149.67</td>\n",
       "      <td>130.50</td>\n",
       "      <td>8145.35</td>\n",
       "      <td>8042.21</td>\n",
       "      <td>103.14</td>\n",
       "      <td>0.00</td>\n",
       "      <td>conventional</td>\n",
       "      <td>2015</td>\n",
       "      <td>Albany</td>\n",
       "    </tr>\n",
       "    <tr>\n",
       "      <th>3</th>\n",
       "      <td>3</td>\n",
       "      <td>2015-06-12</td>\n",
       "      <td>1.08</td>\n",
       "      <td>78992.15</td>\n",
       "      <td>1132.00</td>\n",
       "      <td>71976.41</td>\n",
       "      <td>72.58</td>\n",
       "      <td>5811.16</td>\n",
       "      <td>5677.40</td>\n",
       "      <td>133.76</td>\n",
       "      <td>0.00</td>\n",
       "      <td>conventional</td>\n",
       "      <td>2015</td>\n",
       "      <td>Albany</td>\n",
       "    </tr>\n",
       "    <tr>\n",
       "      <th>4</th>\n",
       "      <td>4</td>\n",
       "      <td>2015-11-29</td>\n",
       "      <td>1.28</td>\n",
       "      <td>51039.60</td>\n",
       "      <td>941.48</td>\n",
       "      <td>43838.39</td>\n",
       "      <td>75.78</td>\n",
       "      <td>6183.95</td>\n",
       "      <td>5986.26</td>\n",
       "      <td>197.69</td>\n",
       "      <td>0.00</td>\n",
       "      <td>conventional</td>\n",
       "      <td>2015</td>\n",
       "      <td>Albany</td>\n",
       "    </tr>\n",
       "    <tr>\n",
       "      <th>...</th>\n",
       "      <td>...</td>\n",
       "      <td>...</td>\n",
       "      <td>...</td>\n",
       "      <td>...</td>\n",
       "      <td>...</td>\n",
       "      <td>...</td>\n",
       "      <td>...</td>\n",
       "      <td>...</td>\n",
       "      <td>...</td>\n",
       "      <td>...</td>\n",
       "      <td>...</td>\n",
       "      <td>...</td>\n",
       "      <td>...</td>\n",
       "      <td>...</td>\n",
       "    </tr>\n",
       "    <tr>\n",
       "      <th>1512</th>\n",
       "      <td>10</td>\n",
       "      <td>2016-10-16</td>\n",
       "      <td>1.39</td>\n",
       "      <td>190846.01</td>\n",
       "      <td>57529.11</td>\n",
       "      <td>56366.66</td>\n",
       "      <td>17531.78</td>\n",
       "      <td>59418.46</td>\n",
       "      <td>48823.53</td>\n",
       "      <td>10354.65</td>\n",
       "      <td>240.28</td>\n",
       "      <td>conventional</td>\n",
       "      <td>2016</td>\n",
       "      <td>Charlotte</td>\n",
       "    </tr>\n",
       "    <tr>\n",
       "      <th>1513</th>\n",
       "      <td>11</td>\n",
       "      <td>2016-09-10</td>\n",
       "      <td>1.51</td>\n",
       "      <td>178235.75</td>\n",
       "      <td>43325.87</td>\n",
       "      <td>52189.61</td>\n",
       "      <td>19419.57</td>\n",
       "      <td>63300.70</td>\n",
       "      <td>54704.14</td>\n",
       "      <td>8596.56</td>\n",
       "      <td>0.00</td>\n",
       "      <td>conventional</td>\n",
       "      <td>2016</td>\n",
       "      <td>Charlotte</td>\n",
       "    </tr>\n",
       "    <tr>\n",
       "      <th>1514</th>\n",
       "      <td>12</td>\n",
       "      <td>2016-02-10</td>\n",
       "      <td>1.48</td>\n",
       "      <td>178410.82</td>\n",
       "      <td>46364.75</td>\n",
       "      <td>52893.38</td>\n",
       "      <td>16736.92</td>\n",
       "      <td>62415.77</td>\n",
       "      <td>53332.61</td>\n",
       "      <td>8258.16</td>\n",
       "      <td>825.00</td>\n",
       "      <td>conventional</td>\n",
       "      <td>2016</td>\n",
       "      <td>Charlotte</td>\n",
       "    </tr>\n",
       "    <tr>\n",
       "      <th>1515</th>\n",
       "      <td>13</td>\n",
       "      <td>2016-09-25</td>\n",
       "      <td>1.47</td>\n",
       "      <td>189131.52</td>\n",
       "      <td>54110.79</td>\n",
       "      <td>53593.58</td>\n",
       "      <td>17495.42</td>\n",
       "      <td>63931.73</td>\n",
       "      <td>55653.47</td>\n",
       "      <td>8278.26</td>\n",
       "      <td>0.00</td>\n",
       "      <td>conventional</td>\n",
       "      <td>2016</td>\n",
       "      <td>Charlotte</td>\n",
       "    </tr>\n",
       "    <tr>\n",
       "      <th>1516</th>\n",
       "      <td>14</td>\n",
       "      <td>2016-09-18</td>\n",
       "      <td>1.43</td>\n",
       "      <td>182978.30</td>\n",
       "      <td>43116.41</td>\n",
       "      <td>54193.42</td>\n",
       "      <td>16563.91</td>\n",
       "      <td>69104.56</td>\n",
       "      <td>57456.21</td>\n",
       "      <td>11648.35</td>\n",
       "      <td>0.00</td>\n",
       "      <td>conventional</td>\n",
       "      <td>2016</td>\n",
       "      <td>Charlotte</td>\n",
       "    </tr>\n",
       "  </tbody>\n",
       "</table>\n",
       "<p>1517 rows × 14 columns</p>\n",
       "</div>"
      ],
      "text/plain": [
       "      Unnamed: 0       Date  AveragePrice  Total Volume      4046       4225  \\\n",
       "0              0 2015-12-27          1.33      64236.62   1036.74   54454.85   \n",
       "1              1 2015-12-20          1.35      54876.98    674.28   44638.81   \n",
       "2              2 2015-12-13          0.93     118220.22    794.70  109149.67   \n",
       "3              3 2015-06-12          1.08      78992.15   1132.00   71976.41   \n",
       "4              4 2015-11-29          1.28      51039.60    941.48   43838.39   \n",
       "...          ...        ...           ...           ...       ...        ...   \n",
       "1512          10 2016-10-16          1.39     190846.01  57529.11   56366.66   \n",
       "1513          11 2016-09-10          1.51     178235.75  43325.87   52189.61   \n",
       "1514          12 2016-02-10          1.48     178410.82  46364.75   52893.38   \n",
       "1515          13 2016-09-25          1.47     189131.52  54110.79   53593.58   \n",
       "1516          14 2016-09-18          1.43     182978.30  43116.41   54193.42   \n",
       "\n",
       "          4770  Total Bags  Small Bags  Large Bags  XLarge Bags          type  \\\n",
       "0        48.16     8696.87     8603.62       93.25         0.00  conventional   \n",
       "1        58.33     9505.56     9408.07       97.49         0.00  conventional   \n",
       "2       130.50     8145.35     8042.21      103.14         0.00  conventional   \n",
       "3        72.58     5811.16     5677.40      133.76         0.00  conventional   \n",
       "4        75.78     6183.95     5986.26      197.69         0.00  conventional   \n",
       "...        ...         ...         ...         ...          ...           ...   \n",
       "1512  17531.78    59418.46    48823.53    10354.65       240.28  conventional   \n",
       "1513  19419.57    63300.70    54704.14     8596.56         0.00  conventional   \n",
       "1514  16736.92    62415.77    53332.61     8258.16       825.00  conventional   \n",
       "1515  17495.42    63931.73    55653.47     8278.26         0.00  conventional   \n",
       "1516  16563.91    69104.56    57456.21    11648.35         0.00  conventional   \n",
       "\n",
       "      year     region  \n",
       "0     2015     Albany  \n",
       "1     2015     Albany  \n",
       "2     2015     Albany  \n",
       "3     2015     Albany  \n",
       "4     2015     Albany  \n",
       "...    ...        ...  \n",
       "1512  2016  Charlotte  \n",
       "1513  2016  Charlotte  \n",
       "1514  2016  Charlotte  \n",
       "1515  2016  Charlotte  \n",
       "1516  2016  Charlotte  \n",
       "\n",
       "[1517 rows x 14 columns]"
      ]
     },
     "execution_count": 2,
     "metadata": {},
     "output_type": "execute_result"
    }
   ],
   "source": [
    "#Loading the Data\n",
    "df_avocado=pd.read_csv('avocado_data.csv',parse_dates=[\"Date\"])\n",
    "df_avocado"
   ]
  },
  {
   "cell_type": "code",
   "execution_count": 3,
   "metadata": {},
   "outputs": [
    {
     "data": {
      "text/plain": [
       "(1517, 14)"
      ]
     },
     "execution_count": 3,
     "metadata": {},
     "output_type": "execute_result"
    }
   ],
   "source": [
    "#Checking The Columns\n",
    "df_avocado.shape"
   ]
  },
  {
   "cell_type": "markdown",
   "metadata": {},
   "source": [
    "In this dataset there are 16468 Rows and 14 columns are Present"
   ]
  },
  {
   "cell_type": "code",
   "execution_count": 4,
   "metadata": {},
   "outputs": [
    {
     "data": {
      "text/plain": [
       "Index(['Unnamed: 0', 'Date', 'AveragePrice', 'Total Volume', '4046', '4225',\n",
       "       '4770', 'Total Bags', 'Small Bags', 'Large Bags', 'XLarge Bags', 'type',\n",
       "       'year', 'region'],\n",
       "      dtype='object')"
      ]
     },
     "execution_count": 4,
     "metadata": {},
     "output_type": "execute_result"
    }
   ],
   "source": [
    "#Checking the columns of dataset\n",
    "df_avocado.columns"
   ]
  },
  {
   "cell_type": "raw",
   "metadata": {},
   "source": [
    "Date — The date of the observation\n",
    "Average Price — the average price of a single avocado\n",
    "type — conventional.\n",
    "year — the year 2015,2016.\n",
    "Region — the city or region of the observation\n",
    "Total Volume — Total number of avocados sold\n",
    "4046 — Total number of avocados with PLU 4046 sold\n",
    "4225 — Total number of avocados with PLU 4225 sold\n",
    "4770 — Total number of avocados with PLU 4770 sold\n",
    "Problem description:"
   ]
  },
  {
   "cell_type": "code",
   "execution_count": 5,
   "metadata": {},
   "outputs": [
    {
     "data": {
      "text/plain": [
       "Unnamed: 0               int64\n",
       "Date            datetime64[ns]\n",
       "AveragePrice           float64\n",
       "Total Volume           float64\n",
       "4046                   float64\n",
       "4225                   float64\n",
       "4770                   float64\n",
       "Total Bags             float64\n",
       "Small Bags             float64\n",
       "Large Bags             float64\n",
       "XLarge Bags            float64\n",
       "type                    object\n",
       "year                     int64\n",
       "region                  object\n",
       "dtype: object"
      ]
     },
     "execution_count": 5,
     "metadata": {},
     "output_type": "execute_result"
    }
   ],
   "source": [
    "#Checking the Data type of columns\n",
    "df_avocado.dtypes"
   ]
  },
  {
   "cell_type": "code",
   "execution_count": 6,
   "metadata": {},
   "outputs": [
    {
     "name": "stdout",
     "output_type": "stream",
     "text": [
      "<class 'pandas.core.frame.DataFrame'>\n",
      "RangeIndex: 1517 entries, 0 to 1516\n",
      "Data columns (total 14 columns):\n",
      " #   Column        Non-Null Count  Dtype         \n",
      "---  ------        --------------  -----         \n",
      " 0   Unnamed: 0    1517 non-null   int64         \n",
      " 1   Date          1517 non-null   datetime64[ns]\n",
      " 2   AveragePrice  1517 non-null   float64       \n",
      " 3   Total Volume  1517 non-null   float64       \n",
      " 4   4046          1517 non-null   float64       \n",
      " 5   4225          1517 non-null   float64       \n",
      " 6   4770          1517 non-null   float64       \n",
      " 7   Total Bags    1517 non-null   float64       \n",
      " 8   Small Bags    1517 non-null   float64       \n",
      " 9   Large Bags    1517 non-null   float64       \n",
      " 10  XLarge Bags   1517 non-null   float64       \n",
      " 11  type          1517 non-null   object        \n",
      " 12  year          1517 non-null   int64         \n",
      " 13  region        1517 non-null   object        \n",
      "dtypes: datetime64[ns](1), float64(9), int64(2), object(2)\n",
      "memory usage: 166.0+ KB\n"
     ]
    }
   ],
   "source": [
    "#Checking information of data\n",
    "df_avocado.info()"
   ]
  },
  {
   "cell_type": "code",
   "execution_count": 7,
   "metadata": {},
   "outputs": [
    {
     "data": {
      "text/html": [
       "<div>\n",
       "<style scoped>\n",
       "    .dataframe tbody tr th:only-of-type {\n",
       "        vertical-align: middle;\n",
       "    }\n",
       "\n",
       "    .dataframe tbody tr th {\n",
       "        vertical-align: top;\n",
       "    }\n",
       "\n",
       "    .dataframe thead th {\n",
       "        text-align: right;\n",
       "    }\n",
       "</style>\n",
       "<table border=\"1\" class=\"dataframe\">\n",
       "  <thead>\n",
       "    <tr style=\"text-align: right;\">\n",
       "      <th></th>\n",
       "      <th>Date</th>\n",
       "      <th>AveragePrice</th>\n",
       "      <th>Total Volume</th>\n",
       "      <th>4046</th>\n",
       "      <th>4225</th>\n",
       "      <th>4770</th>\n",
       "      <th>Total Bags</th>\n",
       "      <th>Small Bags</th>\n",
       "      <th>Large Bags</th>\n",
       "      <th>XLarge Bags</th>\n",
       "      <th>type</th>\n",
       "      <th>year</th>\n",
       "      <th>region</th>\n",
       "    </tr>\n",
       "  </thead>\n",
       "  <tbody>\n",
       "    <tr>\n",
       "      <th>0</th>\n",
       "      <td>2015-12-27</td>\n",
       "      <td>1.33</td>\n",
       "      <td>64236.62</td>\n",
       "      <td>1036.74</td>\n",
       "      <td>54454.85</td>\n",
       "      <td>48.16</td>\n",
       "      <td>8696.87</td>\n",
       "      <td>8603.62</td>\n",
       "      <td>93.25</td>\n",
       "      <td>0.0</td>\n",
       "      <td>conventional</td>\n",
       "      <td>2015</td>\n",
       "      <td>Albany</td>\n",
       "    </tr>\n",
       "    <tr>\n",
       "      <th>1</th>\n",
       "      <td>2015-12-20</td>\n",
       "      <td>1.35</td>\n",
       "      <td>54876.98</td>\n",
       "      <td>674.28</td>\n",
       "      <td>44638.81</td>\n",
       "      <td>58.33</td>\n",
       "      <td>9505.56</td>\n",
       "      <td>9408.07</td>\n",
       "      <td>97.49</td>\n",
       "      <td>0.0</td>\n",
       "      <td>conventional</td>\n",
       "      <td>2015</td>\n",
       "      <td>Albany</td>\n",
       "    </tr>\n",
       "    <tr>\n",
       "      <th>2</th>\n",
       "      <td>2015-12-13</td>\n",
       "      <td>0.93</td>\n",
       "      <td>118220.22</td>\n",
       "      <td>794.70</td>\n",
       "      <td>109149.67</td>\n",
       "      <td>130.50</td>\n",
       "      <td>8145.35</td>\n",
       "      <td>8042.21</td>\n",
       "      <td>103.14</td>\n",
       "      <td>0.0</td>\n",
       "      <td>conventional</td>\n",
       "      <td>2015</td>\n",
       "      <td>Albany</td>\n",
       "    </tr>\n",
       "    <tr>\n",
       "      <th>3</th>\n",
       "      <td>2015-06-12</td>\n",
       "      <td>1.08</td>\n",
       "      <td>78992.15</td>\n",
       "      <td>1132.00</td>\n",
       "      <td>71976.41</td>\n",
       "      <td>72.58</td>\n",
       "      <td>5811.16</td>\n",
       "      <td>5677.40</td>\n",
       "      <td>133.76</td>\n",
       "      <td>0.0</td>\n",
       "      <td>conventional</td>\n",
       "      <td>2015</td>\n",
       "      <td>Albany</td>\n",
       "    </tr>\n",
       "    <tr>\n",
       "      <th>4</th>\n",
       "      <td>2015-11-29</td>\n",
       "      <td>1.28</td>\n",
       "      <td>51039.60</td>\n",
       "      <td>941.48</td>\n",
       "      <td>43838.39</td>\n",
       "      <td>75.78</td>\n",
       "      <td>6183.95</td>\n",
       "      <td>5986.26</td>\n",
       "      <td>197.69</td>\n",
       "      <td>0.0</td>\n",
       "      <td>conventional</td>\n",
       "      <td>2015</td>\n",
       "      <td>Albany</td>\n",
       "    </tr>\n",
       "  </tbody>\n",
       "</table>\n",
       "</div>"
      ],
      "text/plain": [
       "        Date  AveragePrice  Total Volume     4046       4225    4770  \\\n",
       "0 2015-12-27          1.33      64236.62  1036.74   54454.85   48.16   \n",
       "1 2015-12-20          1.35      54876.98   674.28   44638.81   58.33   \n",
       "2 2015-12-13          0.93     118220.22   794.70  109149.67  130.50   \n",
       "3 2015-06-12          1.08      78992.15  1132.00   71976.41   72.58   \n",
       "4 2015-11-29          1.28      51039.60   941.48   43838.39   75.78   \n",
       "\n",
       "   Total Bags  Small Bags  Large Bags  XLarge Bags          type  year  region  \n",
       "0     8696.87     8603.62       93.25          0.0  conventional  2015  Albany  \n",
       "1     9505.56     9408.07       97.49          0.0  conventional  2015  Albany  \n",
       "2     8145.35     8042.21      103.14          0.0  conventional  2015  Albany  \n",
       "3     5811.16     5677.40      133.76          0.0  conventional  2015  Albany  \n",
       "4     6183.95     5986.26      197.69          0.0  conventional  2015  Albany  "
      ]
     },
     "execution_count": 7,
     "metadata": {},
     "output_type": "execute_result"
    }
   ],
   "source": [
    "#unnamed is not a necessary information , it is only index no so we can drop it\n",
    "df_avocado.drop(\"Unnamed: 0\",axis=1,inplace=True)\n",
    "df_avocado.head()"
   ]
  },
  {
   "cell_type": "markdown",
   "metadata": {},
   "source": [
    "# Observations:\n",
    "    \n",
    "    1. There are 16468 row and 14 columns in data set.\n",
    "    \n",
    "    2. Reigon and Type have object data type remaining all have float Data type\n",
    "    \n",
    "    3. Null values are present in Data set.\n",
    "    \n",
    "    4. Use Parse date to convert Date data type object to datetime6[ns]"
   ]
  },
  {
   "cell_type": "markdown",
   "metadata": {},
   "source": [
    "# Summary Statics"
   ]
  },
  {
   "cell_type": "code",
   "execution_count": 8,
   "metadata": {},
   "outputs": [
    {
     "data": {
      "text/html": [
       "<div>\n",
       "<style scoped>\n",
       "    .dataframe tbody tr th:only-of-type {\n",
       "        vertical-align: middle;\n",
       "    }\n",
       "\n",
       "    .dataframe tbody tr th {\n",
       "        vertical-align: top;\n",
       "    }\n",
       "\n",
       "    .dataframe thead th {\n",
       "        text-align: right;\n",
       "    }\n",
       "</style>\n",
       "<table border=\"1\" class=\"dataframe\">\n",
       "  <thead>\n",
       "    <tr style=\"text-align: right;\">\n",
       "      <th></th>\n",
       "      <th>AveragePrice</th>\n",
       "      <th>Total Volume</th>\n",
       "      <th>4046</th>\n",
       "      <th>4225</th>\n",
       "      <th>4770</th>\n",
       "      <th>Total Bags</th>\n",
       "      <th>Small Bags</th>\n",
       "      <th>Large Bags</th>\n",
       "      <th>XLarge Bags</th>\n",
       "      <th>year</th>\n",
       "    </tr>\n",
       "  </thead>\n",
       "  <tbody>\n",
       "    <tr>\n",
       "      <th>count</th>\n",
       "      <td>1517.000000</td>\n",
       "      <td>1.517000e+03</td>\n",
       "      <td>1.517000e+03</td>\n",
       "      <td>1.517000e+03</td>\n",
       "      <td>1.517000e+03</td>\n",
       "      <td>1.517000e+03</td>\n",
       "      <td>1.517000e+03</td>\n",
       "      <td>1.517000e+03</td>\n",
       "      <td>1517.000000</td>\n",
       "      <td>1517.000000</td>\n",
       "    </tr>\n",
       "    <tr>\n",
       "      <th>mean</th>\n",
       "      <td>1.074990</td>\n",
       "      <td>1.601879e+06</td>\n",
       "      <td>6.464387e+05</td>\n",
       "      <td>6.114375e+05</td>\n",
       "      <td>5.040550e+04</td>\n",
       "      <td>2.935974e+05</td>\n",
       "      <td>2.487736e+05</td>\n",
       "      <td>4.264205e+04</td>\n",
       "      <td>2181.771074</td>\n",
       "      <td>2015.162821</td>\n",
       "    </tr>\n",
       "    <tr>\n",
       "      <th>std</th>\n",
       "      <td>0.188891</td>\n",
       "      <td>4.433143e+06</td>\n",
       "      <td>1.947614e+06</td>\n",
       "      <td>1.672906e+06</td>\n",
       "      <td>1.377812e+05</td>\n",
       "      <td>7.579765e+05</td>\n",
       "      <td>6.474765e+05</td>\n",
       "      <td>1.182157e+05</td>\n",
       "      <td>7455.712144</td>\n",
       "      <td>0.369324</td>\n",
       "    </tr>\n",
       "    <tr>\n",
       "      <th>min</th>\n",
       "      <td>0.490000</td>\n",
       "      <td>3.875074e+04</td>\n",
       "      <td>4.677200e+02</td>\n",
       "      <td>1.783770e+03</td>\n",
       "      <td>0.000000e+00</td>\n",
       "      <td>3.311770e+03</td>\n",
       "      <td>3.311770e+03</td>\n",
       "      <td>0.000000e+00</td>\n",
       "      <td>0.000000</td>\n",
       "      <td>2015.000000</td>\n",
       "    </tr>\n",
       "    <tr>\n",
       "      <th>25%</th>\n",
       "      <td>0.980000</td>\n",
       "      <td>1.474700e+05</td>\n",
       "      <td>2.040034e+04</td>\n",
       "      <td>4.147606e+04</td>\n",
       "      <td>9.112500e+02</td>\n",
       "      <td>3.620689e+04</td>\n",
       "      <td>2.972722e+04</td>\n",
       "      <td>5.407400e+02</td>\n",
       "      <td>0.000000</td>\n",
       "      <td>2015.000000</td>\n",
       "    </tr>\n",
       "    <tr>\n",
       "      <th>50%</th>\n",
       "      <td>1.080000</td>\n",
       "      <td>4.027919e+05</td>\n",
       "      <td>8.175117e+04</td>\n",
       "      <td>1.186649e+05</td>\n",
       "      <td>7.688170e+03</td>\n",
       "      <td>7.397906e+04</td>\n",
       "      <td>6.237569e+04</td>\n",
       "      <td>5.044350e+03</td>\n",
       "      <td>0.000000</td>\n",
       "      <td>2015.000000</td>\n",
       "    </tr>\n",
       "    <tr>\n",
       "      <th>75%</th>\n",
       "      <td>1.190000</td>\n",
       "      <td>9.819751e+05</td>\n",
       "      <td>3.775785e+05</td>\n",
       "      <td>4.851503e+05</td>\n",
       "      <td>2.916730e+04</td>\n",
       "      <td>1.576097e+05</td>\n",
       "      <td>1.461994e+05</td>\n",
       "      <td>2.926767e+04</td>\n",
       "      <td>401.480000</td>\n",
       "      <td>2015.000000</td>\n",
       "    </tr>\n",
       "    <tr>\n",
       "      <th>max</th>\n",
       "      <td>1.680000</td>\n",
       "      <td>4.465546e+07</td>\n",
       "      <td>1.893304e+07</td>\n",
       "      <td>1.895648e+07</td>\n",
       "      <td>1.381516e+06</td>\n",
       "      <td>6.736304e+06</td>\n",
       "      <td>5.893642e+06</td>\n",
       "      <td>1.121076e+06</td>\n",
       "      <td>108072.790000</td>\n",
       "      <td>2016.000000</td>\n",
       "    </tr>\n",
       "  </tbody>\n",
       "</table>\n",
       "</div>"
      ],
      "text/plain": [
       "       AveragePrice  Total Volume          4046          4225          4770  \\\n",
       "count   1517.000000  1.517000e+03  1.517000e+03  1.517000e+03  1.517000e+03   \n",
       "mean       1.074990  1.601879e+06  6.464387e+05  6.114375e+05  5.040550e+04   \n",
       "std        0.188891  4.433143e+06  1.947614e+06  1.672906e+06  1.377812e+05   \n",
       "min        0.490000  3.875074e+04  4.677200e+02  1.783770e+03  0.000000e+00   \n",
       "25%        0.980000  1.474700e+05  2.040034e+04  4.147606e+04  9.112500e+02   \n",
       "50%        1.080000  4.027919e+05  8.175117e+04  1.186649e+05  7.688170e+03   \n",
       "75%        1.190000  9.819751e+05  3.775785e+05  4.851503e+05  2.916730e+04   \n",
       "max        1.680000  4.465546e+07  1.893304e+07  1.895648e+07  1.381516e+06   \n",
       "\n",
       "         Total Bags    Small Bags    Large Bags    XLarge Bags         year  \n",
       "count  1.517000e+03  1.517000e+03  1.517000e+03    1517.000000  1517.000000  \n",
       "mean   2.935974e+05  2.487736e+05  4.264205e+04    2181.771074  2015.162821  \n",
       "std    7.579765e+05  6.474765e+05  1.182157e+05    7455.712144     0.369324  \n",
       "min    3.311770e+03  3.311770e+03  0.000000e+00       0.000000  2015.000000  \n",
       "25%    3.620689e+04  2.972722e+04  5.407400e+02       0.000000  2015.000000  \n",
       "50%    7.397906e+04  6.237569e+04  5.044350e+03       0.000000  2015.000000  \n",
       "75%    1.576097e+05  1.461994e+05  2.926767e+04     401.480000  2015.000000  \n",
       "max    6.736304e+06  5.893642e+06  1.121076e+06  108072.790000  2016.000000  "
      ]
     },
     "execution_count": 8,
     "metadata": {},
     "output_type": "execute_result"
    }
   ],
   "source": [
    "df_avocado.describe()"
   ]
  },
  {
   "cell_type": "markdown",
   "metadata": {},
   "source": [
    "Obsevation:\n",
    "      \n",
    "      1. max std has XLarge Bags and the value is 7455.71\n",
    "      \n",
    "      2. 4046,4225,4770 may have outliers."
   ]
  },
  {
   "cell_type": "code",
   "execution_count": 9,
   "metadata": {},
   "outputs": [
    {
     "data": {
      "text/plain": [
       "array(['conventional'], dtype=object)"
      ]
     },
     "execution_count": 9,
     "metadata": {},
     "output_type": "execute_result"
    }
   ],
   "source": [
    "#Cheking the Unique values\n",
    "df_avocado.type.unique()\n"
   ]
  },
  {
   "cell_type": "code",
   "execution_count": 10,
   "metadata": {},
   "outputs": [
    {
     "data": {
      "text/plain": [
       "array([2015, 2016], dtype=int64)"
      ]
     },
     "execution_count": 10,
     "metadata": {},
     "output_type": "execute_result"
    }
   ],
   "source": [
    "df_avocado.year.unique()"
   ]
  },
  {
   "cell_type": "code",
   "execution_count": 11,
   "metadata": {},
   "outputs": [
    {
     "data": {
      "text/plain": [
       "array(['Albany', 'Atlanta', 'BaltimoreWashington', 'Boise', 'Boston',\n",
       "       'BuffaloRochester', 'California', 'Charlotte', 'Chicago',\n",
       "       'Columbus', 'DallasFtWorth', 'Denver', 'Detroit', 'GrandRapids',\n",
       "       'GreatLakes', 'HarrisburgScranton', 'HartfordSpringfield',\n",
       "       'Houston', 'Indianapolis', 'Jacksonville', 'LasVegas',\n",
       "       'LosAngeles', 'Louisville', 'MiamiFtLauderdale', 'Midsouth',\n",
       "       'Nashville', 'NewYork', 'Northeast', 'NorthernNewEngland',\n",
       "       'Orlando', 'Philadelphia', 'PhoenixTucson', 'Pittsburgh', 'Plains',\n",
       "       'Portland', 'RaleighGreensboro', 'RichmondNorfolk', 'Roanoke',\n",
       "       'SanDiego', 'SanFrancisco', 'Seattle', 'SouthCarolina',\n",
       "       'SouthCentral', 'Southeast', 'Spokane', 'StLouis', 'Syracuse',\n",
       "       'Tampa', 'TotalUS', 'West', 'WestTexNewMexico'], dtype=object)"
      ]
     },
     "execution_count": 11,
     "metadata": {},
     "output_type": "execute_result"
    }
   ],
   "source": [
    "df_avocado.region.unique()"
   ]
  },
  {
   "cell_type": "code",
   "execution_count": 12,
   "metadata": {},
   "outputs": [
    {
     "data": {
      "text/plain": [
       "array([1.33, 1.35, 0.93, 1.08, 1.28, 1.26, 0.99, 0.98, 1.02, 1.07, 1.12,\n",
       "       1.31, 1.11, 1.34, 1.45, 1.05, 1.37, 1.27, 1.32, 1.23, 1.19, 1.43,\n",
       "       1.2 , 1.22, 1.13, 1.16, 1.06, 1.17, 1.24, 0.96, 1.  , 1.09, 0.95,\n",
       "       0.97, 1.15, 1.01, 1.14, 1.1 , 1.04, 1.18, 1.29, 1.25, 1.03, 1.39,\n",
       "       1.4 , 1.36, 1.3 , 0.88, 1.21, 0.9 , 0.94, 0.75, 0.77, 0.81, 0.8 ,\n",
       "       0.72, 0.79, 0.67, 0.82, 0.68, 0.76, 0.91, 1.38, 0.92, 0.78, 0.74,\n",
       "       0.62, 0.83, 0.87, 0.73, 0.7 , 0.89, 0.85, 1.44, 1.42, 1.41, 0.49,\n",
       "       0.53, 0.66, 0.56, 0.6 , 0.71, 0.65, 0.58, 0.54, 0.52, 0.51, 0.57,\n",
       "       0.63, 0.64, 0.61, 0.84, 0.86, 0.69, 1.52, 1.53, 1.49, 1.48, 1.56,\n",
       "       1.62, 1.63, 1.46, 1.51, 1.61, 1.47, 1.66, 1.57, 1.6 , 1.5 , 1.68,\n",
       "       1.54, 1.64, 1.58])"
      ]
     },
     "execution_count": 12,
     "metadata": {},
     "output_type": "execute_result"
    }
   ],
   "source": [
    "df_avocado.AveragePrice.unique()"
   ]
  },
  {
   "cell_type": "code",
   "execution_count": 13,
   "metadata": {},
   "outputs": [
    {
     "data": {
      "text/plain": [
       "California             76\n",
       "Albany                 67\n",
       "BaltimoreWashington    65\n",
       "Boise                  65\n",
       "Boston                 62\n",
       "Atlanta                54\n",
       "PhoenixTucson          52\n",
       "BuffaloRochester       51\n",
       "Spokane                49\n",
       "Columbus               47\n",
       "NewYork                44\n",
       "Jacksonville           41\n",
       "Detroit                40\n",
       "SouthCentral           39\n",
       "SanDiego               38\n",
       "West                   36\n",
       "Tampa                  34\n",
       "Louisville             34\n",
       "Charlotte              31\n",
       "Portland               30\n",
       "NorthernNewEngland     29\n",
       "Houston                29\n",
       "WestTexNewMexico       27\n",
       "TotalUS                25\n",
       "Nashville              25\n",
       "Denver                 24\n",
       "SouthCarolina          24\n",
       "Chicago                23\n",
       "GrandRapids            23\n",
       "Pittsburgh             22\n",
       "RichmondNorfolk        21\n",
       "Orlando                21\n",
       "Syracuse               19\n",
       "HarrisburgScranton     19\n",
       "GreatLakes             18\n",
       "Midsouth               18\n",
       "DallasFtWorth          17\n",
       "MiamiFtLauderdale      17\n",
       "Roanoke                17\n",
       "Indianapolis           16\n",
       "RaleighGreensboro      16\n",
       "StLouis                16\n",
       "SanFrancisco           15\n",
       "HartfordSpringfield    13\n",
       "Philadelphia           13\n",
       "Northeast              12\n",
       "Plains                 12\n",
       "LasVegas               10\n",
       "Southeast               9\n",
       "Seattle                 9\n",
       "LosAngeles              3\n",
       "Name: region, dtype: int64"
      ]
     },
     "execution_count": 13,
     "metadata": {},
     "output_type": "execute_result"
    }
   ],
   "source": [
    "df_avocado['region'].value_counts()"
   ]
  },
  {
   "cell_type": "code",
   "execution_count": 14,
   "metadata": {},
   "outputs": [
    {
     "data": {
      "text/plain": [
       "1.08    46\n",
       "0.99    44\n",
       "1.03    44\n",
       "1.09    43\n",
       "1.10    43\n",
       "        ..\n",
       "1.61     1\n",
       "1.66     1\n",
       "1.60     1\n",
       "0.64     1\n",
       "1.64     1\n",
       "Name: AveragePrice, Length: 113, dtype: int64"
      ]
     },
     "execution_count": 14,
     "metadata": {},
     "output_type": "execute_result"
    }
   ],
   "source": [
    "df_avocado['AveragePrice'].value_counts()"
   ]
  },
  {
   "cell_type": "markdown",
   "metadata": {},
   "source": [
    "Observation :\n",
    "          \n",
    "          1. According to dataset most frequently used region for Avocado is California 76 times.\n",
    "          \n",
    "          2. Average Price is 46"
   ]
  },
  {
   "cell_type": "markdown",
   "metadata": {},
   "source": [
    "# Checking for Missing Values"
   ]
  },
  {
   "cell_type": "code",
   "execution_count": 15,
   "metadata": {},
   "outputs": [
    {
     "data": {
      "text/plain": [
       "Date            0\n",
       "AveragePrice    0\n",
       "Total Volume    0\n",
       "4046            0\n",
       "4225            0\n",
       "4770            0\n",
       "Total Bags      0\n",
       "Small Bags      0\n",
       "Large Bags      0\n",
       "XLarge Bags     0\n",
       "type            0\n",
       "year            0\n",
       "region          0\n",
       "dtype: int64"
      ]
     },
     "execution_count": 15,
     "metadata": {},
     "output_type": "execute_result"
    }
   ],
   "source": [
    "#checking for null values\n",
    "df_avocado.isnull().sum()"
   ]
  },
  {
   "cell_type": "code",
   "execution_count": 16,
   "metadata": {},
   "outputs": [
    {
     "data": {
      "text/plain": [
       "<matplotlib.axes._subplots.AxesSubplot at 0x24caf011220>"
      ]
     },
     "execution_count": 16,
     "metadata": {},
     "output_type": "execute_result"
    },
    {
     "data": {
      "image/png": "[encoded data removed]",
      "text/plain": [
       "<Figure size 720x720 with 2 Axes>"
      ]
     },
     "metadata": {
      "needs_background": "light"
     },
     "output_type": "display_data"
    }
   ],
   "source": [
    "#Heatmap to visualize the null values\n",
    "plt.figure(figsize=(10,10))\n",
    "sns.heatmap(df_avocado.isnull())"
   ]
  },
  {
   "cell_type": "raw",
   "metadata": {},
   "source": [
    "Observation :\n",
    "     1. No null value present in this dataset."
   ]
  },
  {
   "cell_type": "markdown",
   "metadata": {},
   "source": [
    "# Check The correlation"
   ]
  },
  {
   "cell_type": "code",
   "execution_count": 17,
   "metadata": {},
   "outputs": [
    {
     "data": {
      "text/html": [
       "<div>\n",
       "<style scoped>\n",
       "    .dataframe tbody tr th:only-of-type {\n",
       "        vertical-align: middle;\n",
       "    }\n",
       "\n",
       "    .dataframe tbody tr th {\n",
       "        vertical-align: top;\n",
       "    }\n",
       "\n",
       "    .dataframe thead th {\n",
       "        text-align: right;\n",
       "    }\n",
       "</style>\n",
       "<table border=\"1\" class=\"dataframe\">\n",
       "  <thead>\n",
       "    <tr style=\"text-align: right;\">\n",
       "      <th></th>\n",
       "      <th>AveragePrice</th>\n",
       "      <th>Total Volume</th>\n",
       "      <th>4046</th>\n",
       "      <th>4225</th>\n",
       "      <th>4770</th>\n",
       "      <th>Total Bags</th>\n",
       "      <th>Small Bags</th>\n",
       "      <th>Large Bags</th>\n",
       "      <th>XLarge Bags</th>\n",
       "      <th>year</th>\n",
       "    </tr>\n",
       "  </thead>\n",
       "  <tbody>\n",
       "    <tr>\n",
       "      <th>AveragePrice</th>\n",
       "      <td>1.000000</td>\n",
       "      <td>-0.140470</td>\n",
       "      <td>-0.190096</td>\n",
       "      <td>-0.092084</td>\n",
       "      <td>-0.100567</td>\n",
       "      <td>-0.111597</td>\n",
       "      <td>-0.097682</td>\n",
       "      <td>-0.177480</td>\n",
       "      <td>-0.048284</td>\n",
       "      <td>0.178683</td>\n",
       "    </tr>\n",
       "    <tr>\n",
       "      <th>Total Volume</th>\n",
       "      <td>-0.140470</td>\n",
       "      <td>1.000000</td>\n",
       "      <td>0.985568</td>\n",
       "      <td>0.987154</td>\n",
       "      <td>0.934347</td>\n",
       "      <td>0.967689</td>\n",
       "      <td>0.960642</td>\n",
       "      <td>0.910226</td>\n",
       "      <td>0.521717</td>\n",
       "      <td>-0.004189</td>\n",
       "    </tr>\n",
       "    <tr>\n",
       "      <th>4046</th>\n",
       "      <td>-0.190096</td>\n",
       "      <td>0.985568</td>\n",
       "      <td>1.000000</td>\n",
       "      <td>0.951952</td>\n",
       "      <td>0.898570</td>\n",
       "      <td>0.930395</td>\n",
       "      <td>0.922278</td>\n",
       "      <td>0.884229</td>\n",
       "      <td>0.474063</td>\n",
       "      <td>-0.040439</td>\n",
       "    </tr>\n",
       "    <tr>\n",
       "      <th>4225</th>\n",
       "      <td>-0.092084</td>\n",
       "      <td>0.987154</td>\n",
       "      <td>0.951952</td>\n",
       "      <td>1.000000</td>\n",
       "      <td>0.927757</td>\n",
       "      <td>0.951779</td>\n",
       "      <td>0.943988</td>\n",
       "      <td>0.900496</td>\n",
       "      <td>0.504718</td>\n",
       "      <td>-0.007254</td>\n",
       "    </tr>\n",
       "    <tr>\n",
       "      <th>4770</th>\n",
       "      <td>-0.100567</td>\n",
       "      <td>0.934347</td>\n",
       "      <td>0.898570</td>\n",
       "      <td>0.927757</td>\n",
       "      <td>1.000000</td>\n",
       "      <td>0.926405</td>\n",
       "      <td>0.923607</td>\n",
       "      <td>0.840523</td>\n",
       "      <td>0.646053</td>\n",
       "      <td>0.029222</td>\n",
       "    </tr>\n",
       "    <tr>\n",
       "      <th>Total Bags</th>\n",
       "      <td>-0.111597</td>\n",
       "      <td>0.967689</td>\n",
       "      <td>0.930395</td>\n",
       "      <td>0.951779</td>\n",
       "      <td>0.926405</td>\n",
       "      <td>1.000000</td>\n",
       "      <td>0.997341</td>\n",
       "      <td>0.911336</td>\n",
       "      <td>0.601856</td>\n",
       "      <td>0.090108</td>\n",
       "    </tr>\n",
       "    <tr>\n",
       "      <th>Small Bags</th>\n",
       "      <td>-0.097682</td>\n",
       "      <td>0.960642</td>\n",
       "      <td>0.922278</td>\n",
       "      <td>0.943988</td>\n",
       "      <td>0.923607</td>\n",
       "      <td>0.997341</td>\n",
       "      <td>1.000000</td>\n",
       "      <td>0.879131</td>\n",
       "      <td>0.611300</td>\n",
       "      <td>0.106382</td>\n",
       "    </tr>\n",
       "    <tr>\n",
       "      <th>Large Bags</th>\n",
       "      <td>-0.177480</td>\n",
       "      <td>0.910226</td>\n",
       "      <td>0.884229</td>\n",
       "      <td>0.900496</td>\n",
       "      <td>0.840523</td>\n",
       "      <td>0.911336</td>\n",
       "      <td>0.879131</td>\n",
       "      <td>1.000000</td>\n",
       "      <td>0.447779</td>\n",
       "      <td>-0.018678</td>\n",
       "    </tr>\n",
       "    <tr>\n",
       "      <th>XLarge Bags</th>\n",
       "      <td>-0.048284</td>\n",
       "      <td>0.521717</td>\n",
       "      <td>0.474063</td>\n",
       "      <td>0.504718</td>\n",
       "      <td>0.646053</td>\n",
       "      <td>0.601856</td>\n",
       "      <td>0.611300</td>\n",
       "      <td>0.447779</td>\n",
       "      <td>1.000000</td>\n",
       "      <td>0.218342</td>\n",
       "    </tr>\n",
       "    <tr>\n",
       "      <th>year</th>\n",
       "      <td>0.178683</td>\n",
       "      <td>-0.004189</td>\n",
       "      <td>-0.040439</td>\n",
       "      <td>-0.007254</td>\n",
       "      <td>0.029222</td>\n",
       "      <td>0.090108</td>\n",
       "      <td>0.106382</td>\n",
       "      <td>-0.018678</td>\n",
       "      <td>0.218342</td>\n",
       "      <td>1.000000</td>\n",
       "    </tr>\n",
       "  </tbody>\n",
       "</table>\n",
       "</div>"
      ],
      "text/plain": [
       "              AveragePrice  Total Volume      4046      4225      4770  \\\n",
       "AveragePrice      1.000000     -0.140470 -0.190096 -0.092084 -0.100567   \n",
       "Total Volume     -0.140470      1.000000  0.985568  0.987154  0.934347   \n",
       "4046             -0.190096      0.985568  1.000000  0.951952  0.898570   \n",
       "4225             -0.092084      0.987154  0.951952  1.000000  0.927757   \n",
       "4770             -0.100567      0.934347  0.898570  0.927757  1.000000   \n",
       "Total Bags       -0.111597      0.967689  0.930395  0.951779  0.926405   \n",
       "Small Bags       -0.097682      0.960642  0.922278  0.943988  0.923607   \n",
       "Large Bags       -0.177480      0.910226  0.884229  0.900496  0.840523   \n",
       "XLarge Bags      -0.048284      0.521717  0.474063  0.504718  0.646053   \n",
       "year              0.178683     -0.004189 -0.040439 -0.007254  0.029222   \n",
       "\n",
       "              Total Bags  Small Bags  Large Bags  XLarge Bags      year  \n",
       "AveragePrice   -0.111597   -0.097682   -0.177480    -0.048284  0.178683  \n",
       "Total Volume    0.967689    0.960642    0.910226     0.521717 -0.004189  \n",
       "4046            0.930395    0.922278    0.884229     0.474063 -0.040439  \n",
       "4225            0.951779    0.943988    0.900496     0.504718 -0.007254  \n",
       "4770            0.926405    0.923607    0.840523     0.646053  0.029222  \n",
       "Total Bags      1.000000    0.997341    0.911336     0.601856  0.090108  \n",
       "Small Bags      0.997341    1.000000    0.879131     0.611300  0.106382  \n",
       "Large Bags      0.911336    0.879131    1.000000     0.447779 -0.018678  \n",
       "XLarge Bags     0.601856    0.611300    0.447779     1.000000  0.218342  \n",
       "year            0.090108    0.106382   -0.018678     0.218342  1.000000  "
      ]
     },
     "execution_count": 17,
     "metadata": {},
     "output_type": "execute_result"
    }
   ],
   "source": [
    "df_corr=df_avocado.corr()\n",
    "df_corr"
   ]
  },
  {
   "cell_type": "markdown",
   "metadata": {},
   "source": [
    "For better clearity we build a heatmap "
   ]
  },
  {
   "cell_type": "code",
   "execution_count": 18,
   "metadata": {},
   "outputs": [
    {
     "data": {
      "text/plain": [
       "<matplotlib.axes._subplots.AxesSubplot at 0x24caf3cf130>"
      ]
     },
     "execution_count": 18,
     "metadata": {},
     "output_type": "execute_result"
    },
    {
     "data": {
      "image/png": "[encoded data removed]",
      "text/plain": [
       "<Figure size 1296x1080 with 2 Axes>"
      ]
     },
     "metadata": {
      "needs_background": "light"
     },
     "output_type": "display_data"
    }
   ],
   "source": [
    "plt.figure(figsize=(18,15))\n",
    "sns.heatmap(df_corr,annot=True, fmt='%')"
   ]
  },
  {
   "cell_type": "markdown",
   "metadata": {},
   "source": [
    "Obsevation:\n",
    "    1. total volume,4046,4225,4770,small bags,large bags are heighly co-relate.\n",
    "    \n",
    "    2. Average Price,Unnamed negatively corelated"
   ]
  },
  {
   "cell_type": "markdown",
   "metadata": {},
   "source": [
    "# Data Visualization"
   ]
  },
  {
   "cell_type": "markdown",
   "metadata": {},
   "source": [
    "Univariant Analysis"
   ]
  },
  {
   "cell_type": "code",
   "execution_count": 19,
   "metadata": {},
   "outputs": [
    {
     "data": {
      "text/plain": [
       "[Text(0, 0, 'Albany'),\n",
       " Text(0, 0, 'Atlanta'),\n",
       " Text(0, 0, 'BaltimoreWashington'),\n",
       " Text(0, 0, 'Boise'),\n",
       " Text(0, 0, 'Boston'),\n",
       " Text(0, 0, 'BuffaloRochester'),\n",
       " Text(0, 0, 'California'),\n",
       " Text(0, 0, 'Charlotte'),\n",
       " Text(0, 0, 'Chicago'),\n",
       " Text(0, 0, 'Columbus'),\n",
       " Text(0, 0, 'DallasFtWorth'),\n",
       " Text(0, 0, 'Denver'),\n",
       " Text(0, 0, 'Detroit'),\n",
       " Text(0, 0, 'GrandRapids'),\n",
       " Text(0, 0, 'GreatLakes'),\n",
       " Text(0, 0, 'HarrisburgScranton'),\n",
       " Text(0, 0, 'HartfordSpringfield'),\n",
       " Text(0, 0, 'Houston'),\n",
       " Text(0, 0, 'Indianapolis'),\n",
       " Text(0, 0, 'Jacksonville'),\n",
       " Text(0, 0, 'LasVegas'),\n",
       " Text(0, 0, 'LosAngeles'),\n",
       " Text(0, 0, 'Louisville'),\n",
       " Text(0, 0, 'MiamiFtLauderdale'),\n",
       " Text(0, 0, 'Midsouth'),\n",
       " Text(0, 0, 'Nashville'),\n",
       " Text(0, 0, 'NewYork'),\n",
       " Text(0, 0, 'Northeast'),\n",
       " Text(0, 0, 'NorthernNewEngland'),\n",
       " Text(0, 0, 'Orlando'),\n",
       " Text(0, 0, 'Philadelphia'),\n",
       " Text(0, 0, 'PhoenixTucson'),\n",
       " Text(0, 0, 'Pittsburgh'),\n",
       " Text(0, 0, 'Plains'),\n",
       " Text(0, 0, 'Portland'),\n",
       " Text(0, 0, 'RaleighGreensboro'),\n",
       " Text(0, 0, 'RichmondNorfolk'),\n",
       " Text(0, 0, 'Roanoke'),\n",
       " Text(0, 0, 'SanDiego'),\n",
       " Text(0, 0, 'SanFrancisco'),\n",
       " Text(0, 0, 'Seattle'),\n",
       " Text(0, 0, 'SouthCarolina'),\n",
       " Text(0, 0, 'SouthCentral'),\n",
       " Text(0, 0, 'Southeast'),\n",
       " Text(0, 0, 'Spokane'),\n",
       " Text(0, 0, 'StLouis'),\n",
       " Text(0, 0, 'Syracuse'),\n",
       " Text(0, 0, 'Tampa'),\n",
       " Text(0, 0, 'TotalUS'),\n",
       " Text(0, 0, 'West'),\n",
       " Text(0, 0, 'WestTexNewMexico')]"
      ]
     },
     "execution_count": 19,
     "metadata": {},
     "output_type": "execute_result"
    },
    {
     "data": {
      "image/png": "[encoded data removed]",
      "text/plain": [
       "<Figure size 2160x1080 with 1 Axes>"
      ]
     },
     "metadata": {
      "needs_background": "light"
     },
     "output_type": "display_data"
    }
   ],
   "source": [
    "plt.figure(figsize=(30,15))\n",
    "lab = list(df_avocado['region'].unique())\n",
    "chart = sns.countplot(df_avocado[\"region\"])\n",
    "chart.set_xticklabels(labels=lab, rotation=90)"
   ]
  },
  {
   "cell_type": "markdown",
   "metadata": {},
   "source": [
    "observation:\n",
    "    1. California"
   ]
  },
  {
   "cell_type": "code",
   "execution_count": 20,
   "metadata": {
    "scrolled": true
   },
   "outputs": [
    {
     "data": {
      "text/html": [
       "<div>\n",
       "<style scoped>\n",
       "    .dataframe tbody tr th:only-of-type {\n",
       "        vertical-align: middle;\n",
       "    }\n",
       "\n",
       "    .dataframe tbody tr th {\n",
       "        vertical-align: top;\n",
       "    }\n",
       "\n",
       "    .dataframe thead th {\n",
       "        text-align: right;\n",
       "    }\n",
       "</style>\n",
       "<table border=\"1\" class=\"dataframe\">\n",
       "  <thead>\n",
       "    <tr style=\"text-align: right;\">\n",
       "      <th></th>\n",
       "      <th>month</th>\n",
       "      <th>year</th>\n",
       "      <th>AveragePrice</th>\n",
       "      <th>region</th>\n",
       "    </tr>\n",
       "  </thead>\n",
       "  <tbody>\n",
       "    <tr>\n",
       "      <th>0</th>\n",
       "      <td>December</td>\n",
       "      <td>2015</td>\n",
       "      <td>1.33</td>\n",
       "      <td>Albany</td>\n",
       "    </tr>\n",
       "    <tr>\n",
       "      <th>1</th>\n",
       "      <td>December</td>\n",
       "      <td>2015</td>\n",
       "      <td>1.35</td>\n",
       "      <td>Albany</td>\n",
       "    </tr>\n",
       "    <tr>\n",
       "      <th>2</th>\n",
       "      <td>December</td>\n",
       "      <td>2015</td>\n",
       "      <td>0.93</td>\n",
       "      <td>Albany</td>\n",
       "    </tr>\n",
       "    <tr>\n",
       "      <th>3</th>\n",
       "      <td>June</td>\n",
       "      <td>2015</td>\n",
       "      <td>1.08</td>\n",
       "      <td>Albany</td>\n",
       "    </tr>\n",
       "    <tr>\n",
       "      <th>4</th>\n",
       "      <td>November</td>\n",
       "      <td>2015</td>\n",
       "      <td>1.28</td>\n",
       "      <td>Albany</td>\n",
       "    </tr>\n",
       "    <tr>\n",
       "      <th>...</th>\n",
       "      <td>...</td>\n",
       "      <td>...</td>\n",
       "      <td>...</td>\n",
       "      <td>...</td>\n",
       "    </tr>\n",
       "    <tr>\n",
       "      <th>1512</th>\n",
       "      <td>October</td>\n",
       "      <td>2016</td>\n",
       "      <td>1.39</td>\n",
       "      <td>Charlotte</td>\n",
       "    </tr>\n",
       "    <tr>\n",
       "      <th>1513</th>\n",
       "      <td>September</td>\n",
       "      <td>2016</td>\n",
       "      <td>1.51</td>\n",
       "      <td>Charlotte</td>\n",
       "    </tr>\n",
       "    <tr>\n",
       "      <th>1514</th>\n",
       "      <td>February</td>\n",
       "      <td>2016</td>\n",
       "      <td>1.48</td>\n",
       "      <td>Charlotte</td>\n",
       "    </tr>\n",
       "    <tr>\n",
       "      <th>1515</th>\n",
       "      <td>September</td>\n",
       "      <td>2016</td>\n",
       "      <td>1.47</td>\n",
       "      <td>Charlotte</td>\n",
       "    </tr>\n",
       "    <tr>\n",
       "      <th>1516</th>\n",
       "      <td>September</td>\n",
       "      <td>2016</td>\n",
       "      <td>1.43</td>\n",
       "      <td>Charlotte</td>\n",
       "    </tr>\n",
       "  </tbody>\n",
       "</table>\n",
       "<p>1517 rows × 4 columns</p>\n",
       "</div>"
      ],
      "text/plain": [
       "          month  year  AveragePrice     region\n",
       "0      December  2015          1.33     Albany\n",
       "1      December  2015          1.35     Albany\n",
       "2      December  2015          0.93     Albany\n",
       "3          June  2015          1.08     Albany\n",
       "4      November  2015          1.28     Albany\n",
       "...         ...   ...           ...        ...\n",
       "1512    October  2016          1.39  Charlotte\n",
       "1513  September  2016          1.51  Charlotte\n",
       "1514   February  2016          1.48  Charlotte\n",
       "1515  September  2016          1.47  Charlotte\n",
       "1516  September  2016          1.43  Charlotte\n",
       "\n",
       "[1517 rows x 4 columns]"
      ]
     },
     "execution_count": 20,
     "metadata": {},
     "output_type": "execute_result"
    }
   ],
   "source": [
    "#Explore more Data from Date variable\n",
    "df_dates=pd.DataFrame()\n",
    "df_dates[\"month\"]=df_avocado[\"Date\"].dt.month_name()\n",
    "df_dates[\"year\"]=df_avocado[\"Date\"].dt.year\n",
    "df_dates[\"AveragePrice\"]=df_avocado[\"AveragePrice\"]\n",
    "df_dates[\"region\"]=df_avocado[\"region\"]\n",
    "df_dates\n"
   ]
  },
  {
   "cell_type": "code",
   "execution_count": 21,
   "metadata": {},
   "outputs": [
    {
     "data": {
      "image/png": "[encoded data removed]",
      "text/plain": [
       "<Figure size 432x288 with 1 Axes>"
      ]
     },
     "metadata": {
      "needs_background": "light"
     },
     "output_type": "display_data"
    }
   ],
   "source": [
    "#plt.figure(figsize=(15,10))\n",
    "#df_avocado['year'].plot.bar()\n",
    "sns.countplot(df_avocado[\"year\"])\n",
    "plt.ylabel('Avocado sale')\n",
    "plt.xlabel('Year')\n",
    "plt.xticks(rotation=30)\n",
    "plt.title('Yearly Sale of Avocado')\n",
    "plt.show()"
   ]
  },
  {
   "cell_type": "raw",
   "metadata": {},
   "source": [
    "observation:\n",
    "    \n",
    "    1. Sale of avocado maximum in year 2015."
   ]
  },
  {
   "cell_type": "code",
   "execution_count": 22,
   "metadata": {},
   "outputs": [
    {
     "data": {
      "image/png": "[encoded data removed]",
      "text/plain": [
       "<Figure size 432x288 with 1 Axes>"
      ]
     },
     "metadata": {
      "needs_background": "light"
     },
     "output_type": "display_data"
    }
   ],
   "source": [
    "#plt.figure(figsize=(30,15))\n",
    "sns.countplot(df_dates[\"month\"])\n",
    "plt.ylabel('Avocado sale')\n",
    "plt.xlabel('month')\n",
    "plt.xticks(rotation=30)\n",
    "plt.title('Monthly Sale of Avocado')\n",
    "plt.show()"
   ]
  },
  {
   "cell_type": "raw",
   "metadata": {},
   "source": [
    "observation:\n",
    "    \n",
    "    1. Nov,may,march shows Maximum sale of Avocado."
   ]
  },
  {
   "cell_type": "code",
   "execution_count": 23,
   "metadata": {},
   "outputs": [
    {
     "data": {
      "image/png": "[encoded data removed]",
      "text/plain": [
       "<Figure size 1584x1080 with 1 Axes>"
      ]
     },
     "metadata": {
      "needs_background": "light"
     },
     "output_type": "display_data"
    }
   ],
   "source": [
    "plt.figure(figsize=(22,15))\n",
    "sns.countplot(df_avocado[\"AveragePrice\"])\n",
    "plt.xlabel('Average Price of Avacado')\n",
    "plt.xticks(rotation=90)\n",
    "plt.title('Average Price of Avocado')\n",
    "plt.show()"
   ]
  },
  {
   "cell_type": "raw",
   "metadata": {},
   "source": [
    "Observation:\n",
    "    \n",
    "    1. max Average Price is between 1.09."
   ]
  },
  {
   "cell_type": "markdown",
   "metadata": {},
   "source": [
    "# Bivariant Analysis"
   ]
  },
  {
   "cell_type": "code",
   "execution_count": 24,
   "metadata": {},
   "outputs": [
    {
     "data": {
      "image/png": "[encoded data removed]",
      "text/plain": [
       "<Figure size 1080x720 with 1 Axes>"
      ]
     },
     "metadata": {
      "needs_background": "light"
     },
     "output_type": "display_data"
    }
   ],
   "source": [
    "plt.figure(figsize=(15,10)) \n",
    "sns.barplot(x=\"year\",y=\"AveragePrice\",data=df_dates)\n",
    "plt.xlabel('year')\n",
    "plt.ylabel('Average Price')\n",
    "plt.xticks(rotation=90)\n",
    "plt.title('Bar plot year vs Average Price')\n",
    "plt.show()"
   ]
  },
  {
   "cell_type": "raw",
   "metadata": {},
   "source": [
    "# Observation:\n",
    "    \n",
    "    1. Frequency of Average price is maximun in year 2016."
   ]
  },
  {
   "cell_type": "code",
   "execution_count": 25,
   "metadata": {},
   "outputs": [
    {
     "data": {
      "image/png": "[encoded data removed]",
      "text/plain": [
       "<Figure size 1080x720 with 1 Axes>"
      ]
     },
     "metadata": {
      "needs_background": "light"
     },
     "output_type": "display_data"
    }
   ],
   "source": [
    "plt.figure(figsize=(15,10)) \n",
    "sns.barplot(x=\"month\",y=\"AveragePrice\",data=df_dates)\n",
    "plt.xlabel('Month')\n",
    "plt.ylabel('Average Price')\n",
    "plt.xticks(rotation=90)\n",
    "plt.title('Bar plot Month vs Average Price')\n",
    "plt.show()"
   ]
  },
  {
   "cell_type": "raw",
   "metadata": {},
   "source": [
    "Observation:\n",
    "    \n",
    "    1. Frequency of Average price is maximun in month of November."
   ]
  },
  {
   "cell_type": "code",
   "execution_count": 26,
   "metadata": {},
   "outputs": [
    {
     "data": {
      "image/png": "[encoded data removed]",
      "text/plain": [
       "<Figure size 1080x720 with 1 Axes>"
      ]
     },
     "metadata": {
      "needs_background": "light"
     },
     "output_type": "display_data"
    }
   ],
   "source": [
    "plt.figure(figsize=(15,10)) \n",
    "sns.lineplot(x=\"month\",y=\"AveragePrice\",data=df_dates)\n",
    "plt.xlabel('Month')\n",
    "plt.ylabel('Average Price')\n",
    "plt.xticks(rotation=90)\n",
    "plt.title('line plot Month vs Average Price')\n",
    "plt.show()"
   ]
  },
  {
   "cell_type": "markdown",
   "metadata": {},
   "source": [
    "# Plotting Outliers"
   ]
  },
  {
   "cell_type": "code",
   "execution_count": 27,
   "metadata": {},
   "outputs": [
    {
     "data": {
      "text/plain": [
       "AveragePrice       AxesSubplot(0.125,0.536818;0.133621x0.343182)\n",
       "Total Volume    AxesSubplot(0.285345,0.536818;0.133621x0.343182)\n",
       "4046             AxesSubplot(0.44569,0.536818;0.133621x0.343182)\n",
       "4225            AxesSubplot(0.606034,0.536818;0.133621x0.343182)\n",
       "4770            AxesSubplot(0.766379,0.536818;0.133621x0.343182)\n",
       "Total Bags            AxesSubplot(0.125,0.125;0.133621x0.343182)\n",
       "Small Bags         AxesSubplot(0.285345,0.125;0.133621x0.343182)\n",
       "Large Bags          AxesSubplot(0.44569,0.125;0.133621x0.343182)\n",
       "XLarge Bags        AxesSubplot(0.606034,0.125;0.133621x0.343182)\n",
       "year               AxesSubplot(0.766379,0.125;0.133621x0.343182)\n",
       "dtype: object"
      ]
     },
     "execution_count": 27,
     "metadata": {},
     "output_type": "execute_result"
    },
    {
     "data": {
      "image/png": "[encoded data removed]",
      "text/plain": [
       "<Figure size 576x576 with 10 Axes>"
      ]
     },
     "metadata": {
      "needs_background": "light"
     },
     "output_type": "display_data"
    }
   ],
   "source": [
    "df_avocado.plot(kind='box',subplots=True,layout=(2,5),fontsize=8,figsize=(8,8))"
   ]
  },
  {
   "cell_type": "code",
   "execution_count": 28,
   "metadata": {},
   "outputs": [
    {
     "data": {
      "image/png": "[encoded data removed]",
      "text/plain": [
       "<Figure size 432x288 with 1 Axes>"
      ]
     },
     "metadata": {
      "needs_background": "light"
     },
     "output_type": "display_data"
    },
    {
     "data": {
      "image/png": "[encoded data removed]",
      "text/plain": [
       "<Figure size 432x288 with 1 Axes>"
      ]
     },
     "metadata": {
      "needs_background": "light"
     },
     "output_type": "display_data"
    },
    {
     "data": {
      "image/png": "[encoded data removed]",
      "text/plain": [
       "<Figure size 432x288 with 1 Axes>"
      ]
     },
     "metadata": {
      "needs_background": "light"
     },
     "output_type": "display_data"
    },
    {
     "data": {
      "image/png": "[encoded data removed]",
      "text/plain": [
       "<Figure size 432x288 with 1 Axes>"
      ]
     },
     "metadata": {
      "needs_background": "light"
     },
     "output_type": "display_data"
    },
    {
     "data": {
      "image/png": "[encoded data removed]",
      "text/plain": [
       "<Figure size 432x288 with 1 Axes>"
      ]
     },
     "metadata": {
      "needs_background": "light"
     },
     "output_type": "display_data"
    },
    {
     "data": {
      "image/png": "[encoded data removed]",
      "text/plain": [
       "<Figure size 432x288 with 1 Axes>"
      ]
     },
     "metadata": {
      "needs_background": "light"
     },
     "output_type": "display_data"
    },
    {
     "data": {
      "image/png": "[encoded data removed]",
      "text/plain": [
       "<Figure size 432x288 with 1 Axes>"
      ]
     },
     "metadata": {
      "needs_background": "light"
     },
     "output_type": "display_data"
    },
    {
     "data": {
      "image/png": "[encoded data removed]",
      "text/plain": [
       "<Figure size 432x288 with 1 Axes>"
      ]
     },
     "metadata": {
      "needs_background": "light"
     },
     "output_type": "display_data"
    },
    {
     "data": {
      "image/png": "[encoded data removed]",
      "text/plain": [
       "<Figure size 432x288 with 1 Axes>"
      ]
     },
     "metadata": {
      "needs_background": "light"
     },
     "output_type": "display_data"
    },
    {
     "data": {
      "image/png": "[encoded data removed]",
      "text/plain": [
       "<Figure size 432x288 with 1 Axes>"
      ]
     },
     "metadata": {
      "needs_background": "light"
     },
     "output_type": "display_data"
    }
   ],
   "source": [
    "#check the distribution of skewness\n",
    "for i in df_avocado.describe().columns:\n",
    "        plt.figure()\n",
    "        sns.distplot(df_avocado[i])"
   ]
  },
  {
   "cell_type": "raw",
   "metadata": {},
   "source": [
    "Observation:\n",
    "    1. All columns value are outlier.\n",
    "    2.Remaing Average price rest all have skewness."
   ]
  },
  {
   "cell_type": "code",
   "execution_count": 29,
   "metadata": {},
   "outputs": [
    {
     "data": {
      "text/plain": [
       "AveragePrice   -0.109444\n",
       "Total Volume    6.200138\n",
       "4046            6.051830\n",
       "4225            6.394926\n",
       "4770            5.405164\n",
       "Total Bags      5.366378\n",
       "Small Bags      5.355185\n",
       "Large Bags      5.144495\n",
       "XLarge Bags     5.775077\n",
       "year            1.828332\n",
       "dtype: float64"
      ]
     },
     "execution_count": 29,
     "metadata": {},
     "output_type": "execute_result"
    }
   ],
   "source": [
    "#For more clearity check skewness to skew function\n",
    "df_avocado.skew()"
   ]
  },
  {
   "cell_type": "code",
   "execution_count": 30,
   "metadata": {},
   "outputs": [],
   "source": [
    "#Treating Skewness via log method\n",
    "\n",
    "for col in df_avocado.describe().columns:\n",
    "    if df_avocado[col].skew()>0.55:\n",
    "        df_avocado[col]=np.log1p(df_avocado[col])    "
   ]
  },
  {
   "cell_type": "code",
   "execution_count": 31,
   "metadata": {},
   "outputs": [
    {
     "data": {
      "text/plain": [
       "AveragePrice   -0.109444\n",
       "Total Volume    0.667468\n",
       "4046           -0.160268\n",
       "4225            0.184436\n",
       "4770           -0.355508\n",
       "Total Bags      0.695502\n",
       "Small Bags      0.713843\n",
       "Large Bags     -0.912766\n",
       "XLarge Bags     0.783913\n",
       "year            1.828332\n",
       "dtype: float64"
      ]
     },
     "execution_count": 31,
     "metadata": {},
     "output_type": "execute_result"
    }
   ],
   "source": [
    "#again check skewness\n",
    "df_avocado.skew()"
   ]
  },
  {
   "cell_type": "code",
   "execution_count": 32,
   "metadata": {},
   "outputs": [],
   "source": [
    "#Transform the data (Transform non-numerical into numerical col)\n",
    "from sklearn.preprocessing import LabelEncoder\n",
    "\n",
    "for column in df_avocado.columns:\n",
    "    if df_avocado[column].dtype == np.number:\n",
    "        continue\n",
    "    df_avocado[column] = LabelEncoder().fit_transform(df_avocado[column])"
   ]
  },
  {
   "cell_type": "code",
   "execution_count": 33,
   "metadata": {},
   "outputs": [
    {
     "data": {
      "text/html": [
       "<div>\n",
       "<style scoped>\n",
       "    .dataframe tbody tr th:only-of-type {\n",
       "        vertical-align: middle;\n",
       "    }\n",
       "\n",
       "    .dataframe tbody tr th {\n",
       "        vertical-align: top;\n",
       "    }\n",
       "\n",
       "    .dataframe thead th {\n",
       "        text-align: right;\n",
       "    }\n",
       "</style>\n",
       "<table border=\"1\" class=\"dataframe\">\n",
       "  <thead>\n",
       "    <tr style=\"text-align: right;\">\n",
       "      <th></th>\n",
       "      <th>Date</th>\n",
       "      <th>AveragePrice</th>\n",
       "      <th>Total Volume</th>\n",
       "      <th>4046</th>\n",
       "      <th>4225</th>\n",
       "      <th>4770</th>\n",
       "      <th>Total Bags</th>\n",
       "      <th>Small Bags</th>\n",
       "      <th>Large Bags</th>\n",
       "      <th>XLarge Bags</th>\n",
       "      <th>type</th>\n",
       "      <th>year</th>\n",
       "      <th>region</th>\n",
       "    </tr>\n",
       "  </thead>\n",
       "  <tbody>\n",
       "    <tr>\n",
       "      <th>0</th>\n",
       "      <td>51</td>\n",
       "      <td>1.33</td>\n",
       "      <td>11.070344</td>\n",
       "      <td>6.944801</td>\n",
       "      <td>10.905146</td>\n",
       "      <td>3.895080</td>\n",
       "      <td>9.070833</td>\n",
       "      <td>9.060055</td>\n",
       "      <td>4.545951</td>\n",
       "      <td>0.000000</td>\n",
       "      <td>0</td>\n",
       "      <td>7.608871</td>\n",
       "      <td>0</td>\n",
       "    </tr>\n",
       "    <tr>\n",
       "      <th>1</th>\n",
       "      <td>50</td>\n",
       "      <td>1.35</td>\n",
       "      <td>10.912867</td>\n",
       "      <td>6.515127</td>\n",
       "      <td>10.706381</td>\n",
       "      <td>4.083115</td>\n",
       "      <td>9.159737</td>\n",
       "      <td>9.149429</td>\n",
       "      <td>4.589955</td>\n",
       "      <td>0.000000</td>\n",
       "      <td>0</td>\n",
       "      <td>7.608871</td>\n",
       "      <td>0</td>\n",
       "    </tr>\n",
       "    <tr>\n",
       "      <th>2</th>\n",
       "      <td>49</td>\n",
       "      <td>0.93</td>\n",
       "      <td>11.680313</td>\n",
       "      <td>6.679222</td>\n",
       "      <td>11.600485</td>\n",
       "      <td>4.879007</td>\n",
       "      <td>9.005325</td>\n",
       "      <td>8.992584</td>\n",
       "      <td>4.645736</td>\n",
       "      <td>0.000000</td>\n",
       "      <td>0</td>\n",
       "      <td>7.608871</td>\n",
       "      <td>0</td>\n",
       "    </tr>\n",
       "    <tr>\n",
       "      <th>3</th>\n",
       "      <td>22</td>\n",
       "      <td>1.08</td>\n",
       "      <td>11.277116</td>\n",
       "      <td>7.032624</td>\n",
       "      <td>11.184108</td>\n",
       "      <td>4.298373</td>\n",
       "      <td>8.667708</td>\n",
       "      <td>8.644425</td>\n",
       "      <td>4.903495</td>\n",
       "      <td>0.000000</td>\n",
       "      <td>0</td>\n",
       "      <td>7.608871</td>\n",
       "      <td>0</td>\n",
       "    </tr>\n",
       "    <tr>\n",
       "      <th>4</th>\n",
       "      <td>46</td>\n",
       "      <td>1.28</td>\n",
       "      <td>10.840377</td>\n",
       "      <td>6.848515</td>\n",
       "      <td>10.688288</td>\n",
       "      <td>4.340944</td>\n",
       "      <td>8.729874</td>\n",
       "      <td>8.697389</td>\n",
       "      <td>5.291746</td>\n",
       "      <td>0.000000</td>\n",
       "      <td>0</td>\n",
       "      <td>7.608871</td>\n",
       "      <td>0</td>\n",
       "    </tr>\n",
       "    <tr>\n",
       "      <th>...</th>\n",
       "      <td>...</td>\n",
       "      <td>...</td>\n",
       "      <td>...</td>\n",
       "      <td>...</td>\n",
       "      <td>...</td>\n",
       "      <td>...</td>\n",
       "      <td>...</td>\n",
       "      <td>...</td>\n",
       "      <td>...</td>\n",
       "      <td>...</td>\n",
       "      <td>...</td>\n",
       "      <td>...</td>\n",
       "      <td>...</td>\n",
       "    </tr>\n",
       "    <tr>\n",
       "      <th>1512</th>\n",
       "      <td>93</td>\n",
       "      <td>1.39</td>\n",
       "      <td>12.159227</td>\n",
       "      <td>10.960064</td>\n",
       "      <td>10.939651</td>\n",
       "      <td>9.771828</td>\n",
       "      <td>10.992377</td>\n",
       "      <td>10.795988</td>\n",
       "      <td>9.245288</td>\n",
       "      <td>5.485958</td>\n",
       "      <td>0</td>\n",
       "      <td>7.609367</td>\n",
       "      <td>7</td>\n",
       "    </tr>\n",
       "    <tr>\n",
       "      <th>1513</th>\n",
       "      <td>87</td>\n",
       "      <td>1.51</td>\n",
       "      <td>12.090868</td>\n",
       "      <td>10.676528</td>\n",
       "      <td>10.862658</td>\n",
       "      <td>9.874088</td>\n",
       "      <td>11.055667</td>\n",
       "      <td>10.909713</td>\n",
       "      <td>9.059234</td>\n",
       "      <td>0.000000</td>\n",
       "      <td>0</td>\n",
       "      <td>7.609367</td>\n",
       "      <td>7</td>\n",
       "    </tr>\n",
       "    <tr>\n",
       "      <th>1514</th>\n",
       "      <td>56</td>\n",
       "      <td>1.48</td>\n",
       "      <td>12.091850</td>\n",
       "      <td>10.744316</td>\n",
       "      <td>10.876052</td>\n",
       "      <td>9.725432</td>\n",
       "      <td>11.041589</td>\n",
       "      <td>10.884322</td>\n",
       "      <td>9.019078</td>\n",
       "      <td>6.716595</td>\n",
       "      <td>0</td>\n",
       "      <td>7.609367</td>\n",
       "      <td>7</td>\n",
       "    </tr>\n",
       "    <tr>\n",
       "      <th>1515</th>\n",
       "      <td>89</td>\n",
       "      <td>1.47</td>\n",
       "      <td>12.150203</td>\n",
       "      <td>10.898807</td>\n",
       "      <td>10.889203</td>\n",
       "      <td>9.769752</td>\n",
       "      <td>11.065587</td>\n",
       "      <td>10.926918</td>\n",
       "      <td>9.021509</td>\n",
       "      <td>0.000000</td>\n",
       "      <td>0</td>\n",
       "      <td>7.609367</td>\n",
       "      <td>7</td>\n",
       "    </tr>\n",
       "    <tr>\n",
       "      <th>1516</th>\n",
       "      <td>88</td>\n",
       "      <td>1.43</td>\n",
       "      <td>12.117128</td>\n",
       "      <td>10.671682</td>\n",
       "      <td>10.900333</td>\n",
       "      <td>9.715042</td>\n",
       "      <td>11.143390</td>\n",
       "      <td>10.958796</td>\n",
       "      <td>9.363006</td>\n",
       "      <td>0.000000</td>\n",
       "      <td>0</td>\n",
       "      <td>7.609367</td>\n",
       "      <td>7</td>\n",
       "    </tr>\n",
       "  </tbody>\n",
       "</table>\n",
       "<p>1517 rows × 13 columns</p>\n",
       "</div>"
      ],
      "text/plain": [
       "      Date  AveragePrice  Total Volume       4046       4225      4770  \\\n",
       "0       51          1.33     11.070344   6.944801  10.905146  3.895080   \n",
       "1       50          1.35     10.912867   6.515127  10.706381  4.083115   \n",
       "2       49          0.93     11.680313   6.679222  11.600485  4.879007   \n",
       "3       22          1.08     11.277116   7.032624  11.184108  4.298373   \n",
       "4       46          1.28     10.840377   6.848515  10.688288  4.340944   \n",
       "...    ...           ...           ...        ...        ...       ...   \n",
       "1512    93          1.39     12.159227  10.960064  10.939651  9.771828   \n",
       "1513    87          1.51     12.090868  10.676528  10.862658  9.874088   \n",
       "1514    56          1.48     12.091850  10.744316  10.876052  9.725432   \n",
       "1515    89          1.47     12.150203  10.898807  10.889203  9.769752   \n",
       "1516    88          1.43     12.117128  10.671682  10.900333  9.715042   \n",
       "\n",
       "      Total Bags  Small Bags  Large Bags  XLarge Bags  type      year  region  \n",
       "0       9.070833    9.060055    4.545951     0.000000     0  7.608871       0  \n",
       "1       9.159737    9.149429    4.589955     0.000000     0  7.608871       0  \n",
       "2       9.005325    8.992584    4.645736     0.000000     0  7.608871       0  \n",
       "3       8.667708    8.644425    4.903495     0.000000     0  7.608871       0  \n",
       "4       8.729874    8.697389    5.291746     0.000000     0  7.608871       0  \n",
       "...          ...         ...         ...          ...   ...       ...     ...  \n",
       "1512   10.992377   10.795988    9.245288     5.485958     0  7.609367       7  \n",
       "1513   11.055667   10.909713    9.059234     0.000000     0  7.609367       7  \n",
       "1514   11.041589   10.884322    9.019078     6.716595     0  7.609367       7  \n",
       "1515   11.065587   10.926918    9.021509     0.000000     0  7.609367       7  \n",
       "1516   11.143390   10.958796    9.363006     0.000000     0  7.609367       7  \n",
       "\n",
       "[1517 rows x 13 columns]"
      ]
     },
     "execution_count": 33,
     "metadata": {},
     "output_type": "execute_result"
    }
   ],
   "source": [
    "df_avocado"
   ]
  },
  {
   "cell_type": "raw",
   "metadata": {},
   "source": [
    "Observation:\n",
    "    1. Now all value is in numerical form"
   ]
  },
  {
   "cell_type": "markdown",
   "metadata": {},
   "source": [
    "# Model Trainning"
   ]
  },
  {
   "cell_type": "markdown",
   "metadata": {},
   "source": [
    "# Prediction According to Region"
   ]
  },
  {
   "cell_type": "code",
   "execution_count": 34,
   "metadata": {},
   "outputs": [],
   "source": [
    "#saprating into input and output variables\n",
    "\n",
    "df_x= df_avocado.drop(columns=['region'])"
   ]
  },
  {
   "cell_type": "code",
   "execution_count": 35,
   "metadata": {},
   "outputs": [
    {
     "data": {
      "text/html": [
       "<div>\n",
       "<style scoped>\n",
       "    .dataframe tbody tr th:only-of-type {\n",
       "        vertical-align: middle;\n",
       "    }\n",
       "\n",
       "    .dataframe tbody tr th {\n",
       "        vertical-align: top;\n",
       "    }\n",
       "\n",
       "    .dataframe thead th {\n",
       "        text-align: right;\n",
       "    }\n",
       "</style>\n",
       "<table border=\"1\" class=\"dataframe\">\n",
       "  <thead>\n",
       "    <tr style=\"text-align: right;\">\n",
       "      <th></th>\n",
       "      <th>region</th>\n",
       "    </tr>\n",
       "  </thead>\n",
       "  <tbody>\n",
       "    <tr>\n",
       "      <th>1512</th>\n",
       "      <td>7</td>\n",
       "    </tr>\n",
       "    <tr>\n",
       "      <th>1513</th>\n",
       "      <td>7</td>\n",
       "    </tr>\n",
       "    <tr>\n",
       "      <th>1514</th>\n",
       "      <td>7</td>\n",
       "    </tr>\n",
       "    <tr>\n",
       "      <th>1515</th>\n",
       "      <td>7</td>\n",
       "    </tr>\n",
       "    <tr>\n",
       "      <th>1516</th>\n",
       "      <td>7</td>\n",
       "    </tr>\n",
       "  </tbody>\n",
       "</table>\n",
       "</div>"
      ],
      "text/plain": [
       "      region\n",
       "1512       7\n",
       "1513       7\n",
       "1514       7\n",
       "1515       7\n",
       "1516       7"
      ]
     },
     "execution_count": 35,
     "metadata": {},
     "output_type": "execute_result"
    }
   ],
   "source": [
    "y=pd.DataFrame(df_avocado['region'])\n",
    "y.tail()"
   ]
  },
  {
   "cell_type": "code",
   "execution_count": 36,
   "metadata": {},
   "outputs": [],
   "source": [
    "#Scalling the input variable\n",
    "from sklearn.preprocessing import StandardScaler\n",
    "sc= StandardScaler()\n",
    "x=sc.fit_transform(df_x)\n",
    "x=pd.DataFrame(x,columns=df_x.columns)"
   ]
  },
  {
   "cell_type": "code",
   "execution_count": 37,
   "metadata": {},
   "outputs": [],
   "source": [
    "#Spliting The Data in Train and Target\n",
    "from sklearn.model_selection import train_test_split\n",
    "x_train,x_test,y_train,y_test=train_test_split(x,y,test_size=.25,random_state=42)"
   ]
  },
  {
   "cell_type": "code",
   "execution_count": 38,
   "metadata": {},
   "outputs": [
    {
     "name": "stdout",
     "output_type": "stream",
     "text": [
      "(1137, 12) \t (380, 12)\n"
     ]
    }
   ],
   "source": [
    "print(x_train.shape, '\\t', x_test.shape)"
   ]
  },
  {
   "cell_type": "code",
   "execution_count": 39,
   "metadata": {},
   "outputs": [
    {
     "name": "stdout",
     "output_type": "stream",
     "text": [
      "(1137, 1) \t (380, 1)\n"
     ]
    }
   ],
   "source": [
    "print(y_train.shape, '\\t', y_test.shape)"
   ]
  },
  {
   "cell_type": "code",
   "execution_count": 40,
   "metadata": {},
   "outputs": [],
   "source": [
    "#importing our Models library\n",
    "from sklearn.neighbors import KNeighborsClassifier\n",
    "from sklearn.tree import DecisionTreeClassifier\n",
    "#import Metrics\n",
    "from sklearn.metrics import accuracy_score\n",
    "from sklearn.metrics import confusion_matrix,classification_report"
   ]
  },
  {
   "cell_type": "code",
   "execution_count": 41,
   "metadata": {},
   "outputs": [
    {
     "name": "stdout",
     "output_type": "stream",
     "text": [
      "Score of KNeighborsClassifier() is: 0.9498680738786279\n",
      "Metrics\n",
      "accuracy_score : 0.8973684210526316\n",
      "confusion_matrix : [[14  0  0 ...  0  0  0]\n",
      " [ 0 17  0 ...  0  0  0]\n",
      " [ 0  0 12 ...  0  0  0]\n",
      " ...\n",
      " [ 0  0  0 ...  5  0  0]\n",
      " [ 0  0  0 ...  0  7  0]\n",
      " [ 0  0  0 ...  0  0  8]]\n",
      "classification_report:               precision    recall  f1-score   support\n",
      "\n",
      "           0       1.00      0.93      0.97        15\n",
      "           1       0.94      1.00      0.97        17\n",
      "           2       0.80      0.92      0.86        13\n",
      "           3       1.00      1.00      1.00        14\n",
      "           4       0.91      1.00      0.95        10\n",
      "           5       0.89      1.00      0.94         8\n",
      "           6       1.00      1.00      1.00        22\n",
      "           7       0.75      1.00      0.86        12\n",
      "           8       1.00      0.86      0.92         7\n",
      "           9       0.93      1.00      0.96        13\n",
      "          10       1.00      0.80      0.89         5\n",
      "          11       1.00      1.00      1.00         4\n",
      "          12       1.00      1.00      1.00        13\n",
      "          13       1.00      0.75      0.86         4\n",
      "          14       0.80      1.00      0.89         4\n",
      "          15       1.00      0.80      0.89        10\n",
      "          16       0.50      1.00      0.67         2\n",
      "          17       0.57      1.00      0.73         4\n",
      "          18       0.80      1.00      0.89         4\n",
      "          19       0.90      0.90      0.90        10\n",
      "          20       0.67      0.67      0.67         3\n",
      "          21       0.00      0.00      0.00         1\n",
      "          22       0.75      1.00      0.86         6\n",
      "          23       0.56      1.00      0.71         5\n",
      "          24       1.00      0.86      0.92         7\n",
      "          25       0.88      0.78      0.82         9\n",
      "          26       1.00      1.00      1.00         7\n",
      "          27       1.00      1.00      1.00         3\n",
      "          28       1.00      0.86      0.92         7\n",
      "          29       0.71      0.62      0.67         8\n",
      "          30       1.00      1.00      1.00         2\n",
      "          31       1.00      0.82      0.90        11\n",
      "          32       1.00      0.50      0.67         4\n",
      "          33       0.75      1.00      0.86         3\n",
      "          34       0.67      1.00      0.80         8\n",
      "          35       0.00      0.00      0.00         4\n",
      "          36       0.67      0.67      0.67         3\n",
      "          37       1.00      1.00      1.00         7\n",
      "          38       1.00      0.80      0.89        10\n",
      "          39       1.00      0.75      0.86         4\n",
      "          40       1.00      0.25      0.40         4\n",
      "          41       1.00      1.00      1.00         4\n",
      "          42       1.00      0.92      0.96        13\n",
      "          43       1.00      1.00      1.00         2\n",
      "          44       1.00      1.00      1.00        13\n",
      "          45       1.00      1.00      1.00         5\n",
      "          46       0.80      0.80      0.80         5\n",
      "          47       0.86      0.55      0.67        11\n",
      "          48       1.00      1.00      1.00         5\n",
      "          49       0.88      1.00      0.93         7\n",
      "          50       0.89      1.00      0.94         8\n",
      "\n",
      "    accuracy                           0.90       380\n",
      "   macro avg       0.86      0.86      0.84       380\n",
      "weighted avg       0.90      0.90      0.89       380\n",
      "\n",
      "-----------------------------------------------------------\n",
      "\n",
      "\n",
      "Score of DecisionTreeClassifier() is: 1.0\n",
      "Metrics\n",
      "accuracy_score : 0.8552631578947368\n",
      "confusion_matrix : [[13  0  0 ...  0  0  0]\n",
      " [ 0 13  0 ...  0  0  0]\n",
      " [ 0  0 13 ...  0  0  0]\n",
      " ...\n",
      " [ 0  0  0 ...  5  0  0]\n",
      " [ 0  0  0 ...  0  6  0]\n",
      " [ 0  0  0 ...  0  0  5]]\n",
      "classification_report:               precision    recall  f1-score   support\n",
      "\n",
      "           0       0.72      0.87      0.79        15\n",
      "           1       0.87      0.76      0.81        17\n",
      "           2       0.93      1.00      0.96        13\n",
      "           3       0.93      1.00      0.97        14\n",
      "           4       1.00      1.00      1.00        10\n",
      "           5       1.00      1.00      1.00         8\n",
      "           6       0.86      0.86      0.86        22\n",
      "           7       0.85      0.92      0.88        12\n",
      "           8       1.00      0.86      0.92         7\n",
      "           9       0.92      0.92      0.92        13\n",
      "          10       1.00      0.80      0.89         5\n",
      "          11       0.50      0.75      0.60         4\n",
      "          12       1.00      0.85      0.92        13\n",
      "          13       1.00      1.00      1.00         4\n",
      "          14       0.50      0.50      0.50         4\n",
      "          15       1.00      1.00      1.00        10\n",
      "          16       0.50      0.50      0.50         2\n",
      "          17       0.50      0.50      0.50         4\n",
      "          18       1.00      1.00      1.00         4\n",
      "          19       0.75      0.90      0.82        10\n",
      "          20       0.67      0.67      0.67         3\n",
      "          21       1.00      1.00      1.00         1\n",
      "          22       1.00      0.83      0.91         6\n",
      "          23       0.71      1.00      0.83         5\n",
      "          24       0.80      0.57      0.67         7\n",
      "          25       1.00      0.89      0.94         9\n",
      "          26       1.00      1.00      1.00         7\n",
      "          27       1.00      1.00      1.00         3\n",
      "          28       0.86      0.86      0.86         7\n",
      "          29       0.40      0.25      0.31         8\n",
      "          30       1.00      1.00      1.00         2\n",
      "          31       0.79      1.00      0.88        11\n",
      "          32       1.00      0.25      0.40         4\n",
      "          33       1.00      1.00      1.00         3\n",
      "          34       1.00      0.50      0.67         8\n",
      "          35       1.00      0.50      0.67         4\n",
      "          36       1.00      1.00      1.00         3\n",
      "          37       1.00      0.86      0.92         7\n",
      "          38       0.75      0.90      0.82        10\n",
      "          39       0.80      1.00      0.89         4\n",
      "          40       1.00      1.00      1.00         4\n",
      "          41       1.00      1.00      1.00         4\n",
      "          42       0.92      0.92      0.92        13\n",
      "          43       1.00      1.00      1.00         2\n",
      "          44       0.80      0.92      0.86        13\n",
      "          45       0.83      1.00      0.91         5\n",
      "          46       0.80      0.80      0.80         5\n",
      "          47       0.82      0.82      0.82        11\n",
      "          48       1.00      1.00      1.00         5\n",
      "          49       0.67      0.86      0.75         7\n",
      "          50       0.62      0.62      0.62         8\n",
      "\n",
      "    accuracy                           0.86       380\n",
      "   macro avg       0.86      0.84      0.84       380\n",
      "weighted avg       0.86      0.86      0.85       380\n",
      "\n",
      "-----------------------------------------------------------\n",
      "\n",
      "\n"
     ]
    }
   ],
   "source": [
    "model=[KNeighborsClassifier(),DecisionTreeClassifier()]\n",
    "for m in model:\n",
    "    m.fit(x_train,y_train)\n",
    "    print('Score of',m,'is:',m.score(x_train,y_train))\n",
    "    predmodel=m.predict(x_test)\n",
    "    print('Metrics')\n",
    "    print('accuracy_score :',accuracy_score(y_test,predmodel))\n",
    "    print('confusion_matrix :',confusion_matrix(y_test,predmodel))\n",
    "    print('classification_report:',classification_report(y_test,predmodel))\n",
    "    print('-----------------------------------------------------------')\n",
    "    print('\\n')"
   ]
  },
  {
   "cell_type": "raw",
   "metadata": {},
   "source": [
    "observation:\n",
    "    1. best model for this problem is KNeighborsClassifier()"
   ]
  },
  {
   "cell_type": "code",
   "execution_count": 42,
   "metadata": {},
   "outputs": [
    {
     "data": {
      "text/plain": [
       "{'n_neighbors': 21}"
      ]
     },
     "execution_count": 42,
     "metadata": {},
     "output_type": "execute_result"
    }
   ],
   "source": [
    "#Now find best Parameter for KNN using GridSearch\n",
    "from sklearn.model_selection import GridSearchCV\n",
    "knc= KNeighborsClassifier()\n",
    "parameters={'n_neighbors':range(20,100)}\n",
    "gridsearch=GridSearchCV(knc,parameters)\n",
    "gridsearch.fit(x,y)\n",
    "gridsearch.best_params_"
   ]
  },
  {
   "cell_type": "code",
   "execution_count": 43,
   "metadata": {},
   "outputs": [
    {
     "name": "stdout",
     "output_type": "stream",
     "text": [
      "Score 0.8504837291116975\n",
      "\n",
      "\n",
      "Metrics\n",
      "accuracy_score : 0.8552631578947368\n",
      "confusion_matrix : [[13  0  0 ...  0  0  0]\n",
      " [ 0 13  0 ...  0  0  0]\n",
      " [ 0  0 13 ...  0  0  0]\n",
      " ...\n",
      " [ 0  0  0 ...  5  0  0]\n",
      " [ 0  0  0 ...  0  6  0]\n",
      " [ 0  0  0 ...  0  0  5]]\n",
      "classification_report:               precision    recall  f1-score   support\n",
      "\n",
      "           0       0.72      0.87      0.79        15\n",
      "           1       0.87      0.76      0.81        17\n",
      "           2       0.93      1.00      0.96        13\n",
      "           3       0.93      1.00      0.97        14\n",
      "           4       1.00      1.00      1.00        10\n",
      "           5       1.00      1.00      1.00         8\n",
      "           6       0.86      0.86      0.86        22\n",
      "           7       0.85      0.92      0.88        12\n",
      "           8       1.00      0.86      0.92         7\n",
      "           9       0.92      0.92      0.92        13\n",
      "          10       1.00      0.80      0.89         5\n",
      "          11       0.50      0.75      0.60         4\n",
      "          12       1.00      0.85      0.92        13\n",
      "          13       1.00      1.00      1.00         4\n",
      "          14       0.50      0.50      0.50         4\n",
      "          15       1.00      1.00      1.00        10\n",
      "          16       0.50      0.50      0.50         2\n",
      "          17       0.50      0.50      0.50         4\n",
      "          18       1.00      1.00      1.00         4\n",
      "          19       0.75      0.90      0.82        10\n",
      "          20       0.67      0.67      0.67         3\n",
      "          21       1.00      1.00      1.00         1\n",
      "          22       1.00      0.83      0.91         6\n",
      "          23       0.71      1.00      0.83         5\n",
      "          24       0.80      0.57      0.67         7\n",
      "          25       1.00      0.89      0.94         9\n",
      "          26       1.00      1.00      1.00         7\n",
      "          27       1.00      1.00      1.00         3\n",
      "          28       0.86      0.86      0.86         7\n",
      "          29       0.40      0.25      0.31         8\n",
      "          30       1.00      1.00      1.00         2\n",
      "          31       0.79      1.00      0.88        11\n",
      "          32       1.00      0.25      0.40         4\n",
      "          33       1.00      1.00      1.00         3\n",
      "          34       1.00      0.50      0.67         8\n",
      "          35       1.00      0.50      0.67         4\n",
      "          36       1.00      1.00      1.00         3\n",
      "          37       1.00      0.86      0.92         7\n",
      "          38       0.75      0.90      0.82        10\n",
      "          39       0.80      1.00      0.89         4\n",
      "          40       1.00      1.00      1.00         4\n",
      "          41       1.00      1.00      1.00         4\n",
      "          42       0.92      0.92      0.92        13\n",
      "          43       1.00      1.00      1.00         2\n",
      "          44       0.80      0.92      0.86        13\n",
      "          45       0.83      1.00      0.91         5\n",
      "          46       0.80      0.80      0.80         5\n",
      "          47       0.82      0.82      0.82        11\n",
      "          48       1.00      1.00      1.00         5\n",
      "          49       0.67      0.86      0.75         7\n",
      "          50       0.62      0.62      0.62         8\n",
      "\n",
      "    accuracy                           0.86       380\n",
      "   macro avg       0.86      0.84      0.84       380\n",
      "weighted avg       0.86      0.86      0.85       380\n",
      "\n",
      "\n",
      "\n"
     ]
    }
   ],
   "source": [
    "#Using KNC model with best result\n",
    "knc = KNeighborsClassifier(n_neighbors=21)\n",
    "knc.fit(x_train,y_train)\n",
    "print('Score',knc.score(x_train,y_train))                           \n",
    "predknc = knc.predict(x_test)\n",
    "print('\\n')\n",
    "print('Metrics')\n",
    "print('accuracy_score :',accuracy_score(y_test,predmodel))\n",
    "print('confusion_matrix :',confusion_matrix(y_test,predmodel))\n",
    "print('classification_report:',classification_report(y_test,predmodel))\n",
    "print('\\n')\n",
    "                           "
   ]
  },
  {
   "cell_type": "markdown",
   "metadata": {},
   "source": [
    "# Cross Validation"
   ]
  },
  {
   "cell_type": "code",
   "execution_count": 44,
   "metadata": {},
   "outputs": [
    {
     "name": "stdout",
     "output_type": "stream",
     "text": [
      "0.8681626715303109\n"
     ]
    }
   ],
   "source": [
    "#cross validation\n",
    "from sklearn.model_selection import cross_val_score\n",
    "#creat instance\n",
    "kn = KNeighborsClassifier()\n",
    "scores = cross_val_score(kn,x,y,cv=5).mean()\n",
    "print(scores)"
   ]
  },
  {
   "cell_type": "markdown",
   "metadata": {},
   "source": [
    "# Using Esemble Technique to Boostup Score"
   ]
  },
  {
   "cell_type": "code",
   "execution_count": 45,
   "metadata": {},
   "outputs": [
    {
     "name": "stdout",
     "output_type": "stream",
     "text": [
      "Score 1.0\n",
      "\n",
      "\n",
      "accuracy_score : 0.9368421052631579\n",
      "confusion_matrix : [[15  0  0 ...  0  0  0]\n",
      " [ 0 17  0 ...  0  0  0]\n",
      " [ 0  0 13 ...  0  0  0]\n",
      " ...\n",
      " [ 0  0  0 ...  5  0  0]\n",
      " [ 0  0  0 ...  0  7  0]\n",
      " [ 0  0  0 ...  0  0  8]]\n",
      "classification_report:               precision    recall  f1-score   support\n",
      "\n",
      "           0       0.88      1.00      0.94        15\n",
      "           1       0.94      1.00      0.97        17\n",
      "           2       0.93      1.00      0.96        13\n",
      "           3       1.00      1.00      1.00        14\n",
      "           4       0.91      1.00      0.95        10\n",
      "           5       1.00      1.00      1.00         8\n",
      "           6       0.96      1.00      0.98        22\n",
      "           7       0.85      0.92      0.88        12\n",
      "           8       1.00      0.86      0.92         7\n",
      "           9       0.93      1.00      0.96        13\n",
      "          10       1.00      1.00      1.00         5\n",
      "          11       1.00      1.00      1.00         4\n",
      "          12       0.93      1.00      0.96        13\n",
      "          13       1.00      1.00      1.00         4\n",
      "          14       0.67      1.00      0.80         4\n",
      "          15       1.00      0.90      0.95        10\n",
      "          16       1.00      1.00      1.00         2\n",
      "          17       0.80      1.00      0.89         4\n",
      "          18       1.00      1.00      1.00         4\n",
      "          19       1.00      0.90      0.95        10\n",
      "          20       1.00      1.00      1.00         3\n",
      "          21       1.00      1.00      1.00         1\n",
      "          22       0.71      0.83      0.77         6\n",
      "          23       0.83      1.00      0.91         5\n",
      "          24       1.00      0.71      0.83         7\n",
      "          25       1.00      0.89      0.94         9\n",
      "          26       1.00      1.00      1.00         7\n",
      "          27       1.00      1.00      1.00         3\n",
      "          28       1.00      0.86      0.92         7\n",
      "          29       0.71      0.62      0.67         8\n",
      "          30       0.67      1.00      0.80         2\n",
      "          31       1.00      0.91      0.95        11\n",
      "          32       0.50      0.25      0.33         4\n",
      "          33       1.00      1.00      1.00         3\n",
      "          34       0.88      0.88      0.88         8\n",
      "          35       0.67      0.50      0.57         4\n",
      "          36       1.00      1.00      1.00         3\n",
      "          37       1.00      1.00      1.00         7\n",
      "          38       1.00      1.00      1.00        10\n",
      "          39       1.00      1.00      1.00         4\n",
      "          40       1.00      0.75      0.86         4\n",
      "          41       1.00      1.00      1.00         4\n",
      "          42       1.00      0.85      0.92        13\n",
      "          43       1.00      1.00      1.00         2\n",
      "          44       1.00      1.00      1.00        13\n",
      "          45       1.00      1.00      1.00         5\n",
      "          46       1.00      0.80      0.89         5\n",
      "          47       0.91      0.91      0.91        11\n",
      "          48       1.00      1.00      1.00         5\n",
      "          49       0.88      1.00      0.93         7\n",
      "          50       1.00      1.00      1.00         8\n",
      "\n",
      "    accuracy                           0.94       380\n",
      "   macro avg       0.93      0.93      0.93       380\n",
      "weighted avg       0.94      0.94      0.93       380\n",
      "\n"
     ]
    }
   ],
   "source": [
    "from sklearn.ensemble import RandomForestClassifier\n",
    "rf=RandomForestClassifier(n_estimators=20,random_state=42)\n",
    "rf.fit(x_train,y_train)\n",
    "print('Score',rf.score(x_train,y_train))\n",
    "rfpred=rf.predict(x_test)\n",
    "print('\\n')\n",
    "print('accuracy_score :',accuracy_score(y_test,rfpred))\n",
    "print('confusion_matrix :',confusion_matrix(y_test,rfpred))\n",
    "print('classification_report:',classification_report(y_test,rfpred))"
   ]
  },
  {
   "cell_type": "code",
   "execution_count": 46,
   "metadata": {},
   "outputs": [
    {
     "name": "stdout",
     "output_type": "stream",
     "text": [
      "Score 1.0\n",
      "\n",
      "\n",
      "accuracy_score : 0.9578947368421052\n",
      "confusion_matrix : [[15  0  0 ...  0  0  0]\n",
      " [ 0 17  0 ...  0  0  0]\n",
      " [ 0  0 13 ...  0  0  0]\n",
      " ...\n",
      " [ 0  0  0 ...  5  0  0]\n",
      " [ 0  0  0 ...  0  7  0]\n",
      " [ 0  0  0 ...  0  0  7]]\n",
      "classification_report:               precision    recall  f1-score   support\n",
      "\n",
      "           0       0.88      1.00      0.94        15\n",
      "           1       0.94      1.00      0.97        17\n",
      "           2       1.00      1.00      1.00        13\n",
      "           3       1.00      1.00      1.00        14\n",
      "           4       0.91      1.00      0.95        10\n",
      "           5       1.00      1.00      1.00         8\n",
      "           6       1.00      1.00      1.00        22\n",
      "           7       0.86      1.00      0.92        12\n",
      "           8       1.00      1.00      1.00         7\n",
      "           9       0.93      1.00      0.96        13\n",
      "          10       1.00      0.80      0.89         5\n",
      "          11       1.00      1.00      1.00         4\n",
      "          12       1.00      1.00      1.00        13\n",
      "          13       1.00      1.00      1.00         4\n",
      "          14       1.00      1.00      1.00         4\n",
      "          15       1.00      1.00      1.00        10\n",
      "          16       1.00      1.00      1.00         2\n",
      "          17       1.00      1.00      1.00         4\n",
      "          18       1.00      1.00      1.00         4\n",
      "          19       0.83      1.00      0.91        10\n",
      "          20       1.00      1.00      1.00         3\n",
      "          21       1.00      1.00      1.00         1\n",
      "          22       0.83      0.83      0.83         6\n",
      "          23       1.00      1.00      1.00         5\n",
      "          24       1.00      1.00      1.00         7\n",
      "          25       1.00      0.89      0.94         9\n",
      "          26       1.00      1.00      1.00         7\n",
      "          27       1.00      1.00      1.00         3\n",
      "          28       1.00      0.86      0.92         7\n",
      "          29       0.80      0.50      0.62         8\n",
      "          30       1.00      1.00      1.00         2\n",
      "          31       0.85      1.00      0.92        11\n",
      "          32       1.00      0.75      0.86         4\n",
      "          33       1.00      1.00      1.00         3\n",
      "          34       0.89      1.00      0.94         8\n",
      "          35       1.00      0.50      0.67         4\n",
      "          36       1.00      1.00      1.00         3\n",
      "          37       1.00      1.00      1.00         7\n",
      "          38       1.00      0.90      0.95        10\n",
      "          39       1.00      1.00      1.00         4\n",
      "          40       1.00      0.75      0.86         4\n",
      "          41       1.00      1.00      1.00         4\n",
      "          42       1.00      1.00      1.00        13\n",
      "          43       1.00      1.00      1.00         2\n",
      "          44       1.00      1.00      1.00        13\n",
      "          45       1.00      1.00      1.00         5\n",
      "          46       1.00      0.80      0.89         5\n",
      "          47       0.91      0.91      0.91        11\n",
      "          48       1.00      1.00      1.00         5\n",
      "          49       1.00      1.00      1.00         7\n",
      "          50       0.88      0.88      0.88         8\n",
      "\n",
      "    accuracy                           0.96       380\n",
      "   macro avg       0.97      0.95      0.96       380\n",
      "weighted avg       0.96      0.96      0.96       380\n",
      "\n"
     ]
    }
   ],
   "source": [
    "#using Ada Boost\n",
    "from sklearn.ensemble import AdaBoostClassifier\n",
    "rf= RandomForestClassifier()\n",
    "\n",
    "adb=AdaBoostClassifier(base_estimator=rf,n_estimators=20,learning_rate=0.1,random_state=60)\n",
    "adb.fit(x_train,y_train)\n",
    "print('Score',adb.score(x_train,y_train))\n",
    "predadb=adb.predict(x_test)\n",
    "print('\\n')\n",
    "print('accuracy_score :',accuracy_score(y_test,predadb))\n",
    "print('confusion_matrix :',confusion_matrix(y_test,predadb))\n",
    "print('classification_report:',classification_report(y_test,predadb))"
   ]
  },
  {
   "cell_type": "raw",
   "metadata": {},
   "source": [
    "observation\n",
    "    \n",
    "    1. accuracy_score is max in AdaBoostClassifier so save it as a final model."
   ]
  },
  {
   "cell_type": "code",
   "execution_count": 47,
   "metadata": {},
   "outputs": [
    {
     "name": "stdout",
     "output_type": "stream",
     "text": [
      "scores = 0.9545137678633668\n",
      "Mean scores = 0.9545137678633668\n",
      "Standard daviation score = 0.0\n"
     ]
    }
   ],
   "source": [
    "#Cross validation of AdaBoostClassifier\n",
    "\n",
    "score = cross_val_score(rf,x,y,cv=10).mean()\n",
    "print('scores =', score)\n",
    "print('Mean scores =',score.mean())\n",
    "print('Standard daviation score =',score.std())"
   ]
  },
  {
   "cell_type": "code",
   "execution_count": 48,
   "metadata": {},
   "outputs": [
    {
     "data": {
      "image/png": "[encoded data removed]",
      "text/plain": [
       "<Figure size 432x288 with 1 Axes>"
      ]
     },
     "metadata": {
      "needs_background": "light"
     },
     "output_type": "display_data"
    }
   ],
   "source": [
    "#plot plot between test data and predicted data\n",
    "plt.scatter(y_test,predadb)\n",
    "plt.xlabel('y_test')\n",
    "plt.ylabel('y_prediction')\n",
    "plt.show()"
   ]
  },
  {
   "cell_type": "code",
   "execution_count": 49,
   "metadata": {},
   "outputs": [
    {
     "data": {
      "text/plain": [
       "['Avacado.pkl']"
      ]
     },
     "execution_count": 49,
     "metadata": {},
     "output_type": "execute_result"
    }
   ],
   "source": [
    "#Saving Adaboost Model\n",
    "import joblib\n",
    "joblib.dump(rf,'Avacado.pkl')"
   ]
  },
  {
   "cell_type": "markdown",
   "metadata": {},
   "source": [
    "# According to Average Price"
   ]
  },
  {
   "cell_type": "code",
   "execution_count": 50,
   "metadata": {},
   "outputs": [],
   "source": [
    "#saprating into input and output variables\n",
    "\n",
    "df_x= df_avocado.drop(columns=['AveragePrice'])"
   ]
  },
  {
   "cell_type": "code",
   "execution_count": 51,
   "metadata": {},
   "outputs": [
    {
     "data": {
      "text/html": [
       "<div>\n",
       "<style scoped>\n",
       "    .dataframe tbody tr th:only-of-type {\n",
       "        vertical-align: middle;\n",
       "    }\n",
       "\n",
       "    .dataframe tbody tr th {\n",
       "        vertical-align: top;\n",
       "    }\n",
       "\n",
       "    .dataframe thead th {\n",
       "        text-align: right;\n",
       "    }\n",
       "</style>\n",
       "<table border=\"1\" class=\"dataframe\">\n",
       "  <thead>\n",
       "    <tr style=\"text-align: right;\">\n",
       "      <th></th>\n",
       "      <th>AveragePrice</th>\n",
       "    </tr>\n",
       "  </thead>\n",
       "  <tbody>\n",
       "    <tr>\n",
       "      <th>0</th>\n",
       "      <td>1.33</td>\n",
       "    </tr>\n",
       "    <tr>\n",
       "      <th>1</th>\n",
       "      <td>1.35</td>\n",
       "    </tr>\n",
       "    <tr>\n",
       "      <th>2</th>\n",
       "      <td>0.93</td>\n",
       "    </tr>\n",
       "    <tr>\n",
       "      <th>3</th>\n",
       "      <td>1.08</td>\n",
       "    </tr>\n",
       "    <tr>\n",
       "      <th>4</th>\n",
       "      <td>1.28</td>\n",
       "    </tr>\n",
       "    <tr>\n",
       "      <th>5</th>\n",
       "      <td>1.26</td>\n",
       "    </tr>\n",
       "    <tr>\n",
       "      <th>6</th>\n",
       "      <td>0.99</td>\n",
       "    </tr>\n",
       "    <tr>\n",
       "      <th>7</th>\n",
       "      <td>0.98</td>\n",
       "    </tr>\n",
       "    <tr>\n",
       "      <th>8</th>\n",
       "      <td>1.02</td>\n",
       "    </tr>\n",
       "    <tr>\n",
       "      <th>9</th>\n",
       "      <td>1.07</td>\n",
       "    </tr>\n",
       "  </tbody>\n",
       "</table>\n",
       "</div>"
      ],
      "text/plain": [
       "   AveragePrice\n",
       "0          1.33\n",
       "1          1.35\n",
       "2          0.93\n",
       "3          1.08\n",
       "4          1.28\n",
       "5          1.26\n",
       "6          0.99\n",
       "7          0.98\n",
       "8          1.02\n",
       "9          1.07"
      ]
     },
     "execution_count": 51,
     "metadata": {},
     "output_type": "execute_result"
    }
   ],
   "source": [
    "y=pd.DataFrame(df_avocado['AveragePrice'])\n",
    "y.head(10)"
   ]
  },
  {
   "cell_type": "code",
   "execution_count": 52,
   "metadata": {},
   "outputs": [],
   "source": [
    "#Scalling the input variable\n",
    "from sklearn.preprocessing import StandardScaler\n",
    "sc= StandardScaler()\n",
    "x=sc.fit_transform(df_x)\n",
    "x=pd.DataFrame(x,columns=df_x.columns)"
   ]
  },
  {
   "cell_type": "code",
   "execution_count": 53,
   "metadata": {},
   "outputs": [],
   "source": [
    "#Spliting The Data in Train and Target\n",
    "from sklearn.model_selection import train_test_split\n",
    "x_train,x_test,y_train,y_test=train_test_split(x,y,test_size=.30,random_state=42)"
   ]
  },
  {
   "cell_type": "code",
   "execution_count": 54,
   "metadata": {},
   "outputs": [
    {
     "name": "stdout",
     "output_type": "stream",
     "text": [
      "(1061, 12) \t (456, 12)\n"
     ]
    }
   ],
   "source": [
    "print(x_train.shape, '\\t', x_test.shape)"
   ]
  },
  {
   "cell_type": "code",
   "execution_count": 55,
   "metadata": {},
   "outputs": [
    {
     "name": "stdout",
     "output_type": "stream",
     "text": [
      "(1061, 1) \t (456, 1)\n"
     ]
    }
   ],
   "source": [
    "print(y_train.shape, '\\t', y_test.shape)"
   ]
  },
  {
   "cell_type": "code",
   "execution_count": 56,
   "metadata": {},
   "outputs": [],
   "source": [
    "#importing our Models library\n",
    "from sklearn.linear_model import LinearRegression,Lasso,Ridge,ElasticNet\n",
    "from sklearn.neighbors import KNeighborsRegressor\n",
    "from sklearn.svm import SVR\n",
    "from sklearn.tree import DecisionTreeRegressor\n",
    "#import Metrics\n",
    "from sklearn.metrics import mean_absolute_error,mean_squared_error,r2_score"
   ]
  },
  {
   "cell_type": "code",
   "execution_count": 57,
   "metadata": {},
   "outputs": [
    {
     "name": "stdout",
     "output_type": "stream",
     "text": [
      "Score of LinearRegression() is: 0.40144091874407295\n",
      "Metrics\n",
      "Mean absolute error: 0.11676605383016297\n",
      "Mean squared error : 0.022616057839907847\n",
      "r2_score: 0.34476744028420503\n",
      "-----------------------------------------------------------\n",
      "\n",
      "\n",
      "Score of KNeighborsRegressor() is: 0.8278288720319414\n",
      "Metrics\n",
      "Mean absolute error: 0.07512719298245614\n",
      "Mean squared error : 0.010288622807017542\n",
      "r2_score: 0.7019179599949289\n",
      "-----------------------------------------------------------\n",
      "\n",
      "\n",
      "Score of DecisionTreeRegressor() is: 1.0\n",
      "Metrics\n",
      "Mean absolute error: 0.07787280701754386\n",
      "Mean squared error : 0.013501973684210527\n",
      "r2_score: 0.6088207396291034\n",
      "-----------------------------------------------------------\n",
      "\n",
      "\n",
      "Score of SVR() is: 0.7877699545874881\n",
      "Metrics\n",
      "Mean absolute error: 0.07702111160280539\n",
      "Mean squared error : 0.009712300632322726\n",
      "r2_score: 0.7186151694033656\n",
      "-----------------------------------------------------------\n",
      "\n",
      "\n",
      "Score of Lasso() is: 0.0\n",
      "Metrics\n",
      "Mean absolute error: 0.14206907171321329\n",
      "Mean squared error : 0.03455029100901213\n",
      "r2_score: -0.0009912327343464256\n",
      "-----------------------------------------------------------\n",
      "\n",
      "\n",
      "Score of Ridge() is: 0.4009970221124869\n",
      "Metrics\n",
      "Mean absolute error: 0.11617513465770245\n",
      "Mean squared error : 0.02245800561833907\n",
      "r2_score: 0.3493465301698231\n",
      "-----------------------------------------------------------\n",
      "\n",
      "\n",
      "Score of ElasticNet() is: 0.0\n",
      "Metrics\n",
      "Mean absolute error: 0.14206907171321329\n",
      "Mean squared error : 0.03455029100901213\n",
      "r2_score: -0.0009912327343464256\n",
      "-----------------------------------------------------------\n",
      "\n",
      "\n"
     ]
    }
   ],
   "source": [
    "models=[ LinearRegression(),KNeighborsRegressor(),DecisionTreeRegressor(),SVR(),Lasso(),Ridge(),ElasticNet()]\n",
    "for m in models:\n",
    "    m.fit(x_train,y_train)\n",
    "    print('Score of',m,'is:',m.score(x_train,y_train))\n",
    "    predection=m.predict(x_test)\n",
    "    print('Metrics')\n",
    "    print('Mean absolute error:',mean_absolute_error(y_test,predection))\n",
    "    print('Mean squared error :',mean_squared_error(y_test,predection))\n",
    "    print('r2_score:',r2_score(y_test,predection))\n",
    "    print('-----------------------------------------------------------')\n",
    "    print('\\n')"
   ]
  },
  {
   "cell_type": "raw",
   "metadata": {},
   "source": [
    "Observation:\n",
    "    \n",
    "    According to all three perametrs KNeighborsRegressor() is best model."
   ]
  },
  {
   "cell_type": "code",
   "execution_count": 58,
   "metadata": {},
   "outputs": [
    {
     "data": {
      "text/plain": [
       "{'C': 0.1, 'gamma': 0.1, 'kernel': 'rbf'}"
      ]
     },
     "execution_count": 58,
     "metadata": {},
     "output_type": "execute_result"
    }
   ],
   "source": [
    "#Now find best Parameter for svc using GridSearch\n",
    "from sklearn.model_selection import GridSearchCV\n",
    "svr= SVR()\n",
    "parameters= {'C' : [0.1,1,10,100,1000], 'gamma' : [1,0.1,0.01,0.001,0.0001],'kernel':['rbf']}\n",
    "gridsearch=GridSearchCV(svr,parameters)\n",
    "gridsearch.fit(x,y)\n",
    "gridsearch.best_params_"
   ]
  },
  {
   "cell_type": "code",
   "execution_count": 59,
   "metadata": {},
   "outputs": [
    {
     "name": "stdout",
     "output_type": "stream",
     "text": [
      "Score 0.6691153511153115\n",
      "\n",
      "\n",
      "Metrics\n",
      "Mean absolute error: 0.08845979033514804\n",
      "Mean squared error : 0.013400420673784214\n",
      "r2_score: 0.6117629340397961\n"
     ]
    }
   ],
   "source": [
    "#Using KNC model with best result\n",
    "svr= SVR(C=0.1,gamma=0.1)\n",
    "svr.fit(x_train,y_train)\n",
    "print('Score',svr.score(x_train,y_train))                           \n",
    "predsvc = svr.predict(x_test)\n",
    "print('\\n')\n",
    "print('Metrics')\n",
    "print('Mean absolute error:',mean_absolute_error(y_test,predsvc))\n",
    "print('Mean squared error :',mean_squared_error(y_test,predsvc))\n",
    "print('r2_score:',r2_score(y_test,predsvc))"
   ]
  },
  {
   "cell_type": "markdown",
   "metadata": {},
   "source": [
    "# Cross Validation"
   ]
  },
  {
   "cell_type": "code",
   "execution_count": 60,
   "metadata": {},
   "outputs": [
    {
     "name": "stdout",
     "output_type": "stream",
     "text": [
      "0.2693664333539403\n"
     ]
    }
   ],
   "source": [
    "#cross validation\n",
    "from sklearn.model_selection import cross_val_score\n",
    "svr= SVR()\n",
    "scores = cross_val_score(svr,x,y,cv=5).mean()\n",
    "print(scores)"
   ]
  },
  {
   "cell_type": "markdown",
   "metadata": {},
   "source": [
    "# Using Esemble Technique to Boostup Score"
   ]
  },
  {
   "cell_type": "code",
   "execution_count": 63,
   "metadata": {},
   "outputs": [
    {
     "name": "stdout",
     "output_type": "stream",
     "text": [
      "Score 0.9609533858381346\n",
      "\n",
      "\n",
      "Mean absolute error: 0.0627719298245614\n",
      "Mean squared error : 0.007777951754385964\n",
      "r2_score: 0.7746571363830117\n"
     ]
    }
   ],
   "source": [
    "from sklearn.ensemble import RandomForestRegressor\n",
    "rfr= RandomForestRegressor(n_estimators=10,random_state=50)\n",
    "rfr.fit(x_train,y_train)\n",
    "print('Score',rfr.score(x_train,y_train))\n",
    "rfrpred=rfr.predict(x_test)\n",
    "print('\\n')\n",
    "print('Mean absolute error:',mean_absolute_error(y_test,rfrpred))\n",
    "print('Mean squared error :',mean_squared_error(y_test,rfrpred))\n",
    "print('r2_score:',r2_score(y_test,rfrpred))"
   ]
  },
  {
   "cell_type": "code",
   "execution_count": 72,
   "metadata": {},
   "outputs": [
    {
     "name": "stdout",
     "output_type": "stream",
     "text": [
      "Score 0.9793590410801367\n",
      "\n",
      "\n",
      "Mean absolute error: 0.059987938596491264\n",
      "Mean squared error : 0.007117615021929823\n",
      "r2_score: 0.7937884160491837\n"
     ]
    }
   ],
   "source": [
    "#using Ada Boost\n",
    "from sklearn.ensemble import AdaBoostRegressor\n",
    "rfr= RandomForestRegressor()\n",
    "\n",
    "adbr =AdaBoostRegressor(base_estimator=rfr,n_estimators=30,learning_rate=0.1,random_state=40)\n",
    "adbr.fit(x_train,y_train)\n",
    "print('Score',adbr.score(x_train,y_train))\n",
    "predadbr =adbr.predict(x_test)\n",
    "print('\\n')\n",
    "print('Mean absolute error:',mean_absolute_error(y_test,predadbr))\n",
    "print('Mean squared error :',mean_squared_error(y_test,predadbr))\n",
    "print('r2_score:',r2_score(y_test,predadbr))"
   ]
  },
  {
   "cell_type": "code",
   "execution_count": 73,
   "metadata": {},
   "outputs": [
    {
     "name": "stdout",
     "output_type": "stream",
     "text": [
      "scores = 0.004212775345189612\n",
      "Mean scores = 0.004212775345189612\n",
      "Standard daviation score = 0.0\n"
     ]
    }
   ],
   "source": [
    "#Cross validation of AdaBoostRegressor\n",
    "\n",
    "score = cross_val_score(rf,x,y,cv=10).mean()\n",
    "print('scores =', score)\n",
    "print('Mean scores =',score.mean())\n",
    "print('Standard daviation score =',score.std())"
   ]
  },
  {
   "cell_type": "raw",
   "metadata": {},
   "source": [
    "observation:\n",
    "    1. AdaBoostRegressor()is best model for this problem so save it as final soluntion."
   ]
  },
  {
   "cell_type": "code",
   "execution_count": 74,
   "metadata": {},
   "outputs": [
    {
     "data": {
      "image/png": "[encoded data removed]",
      "text/plain": [
       "<Figure size 432x288 with 1 Axes>"
      ]
     },
     "metadata": {
      "needs_background": "light"
     },
     "output_type": "display_data"
    }
   ],
   "source": [
    "#plot between test data and predicted data\n",
    "plt.scatter(y_test,predadb)\n",
    "plt.xlabel('y_test')\n",
    "plt.ylabel('y_prediction')\n",
    "plt.show()"
   ]
  },
  {
   "cell_type": "raw",
   "metadata": {},
   "source": [
    "obsrvation:\n",
    "    1. Actual value and predicted values are very close to each other so the line is best fit."
   ]
  },
  {
   "cell_type": "code",
   "execution_count": 75,
   "metadata": {},
   "outputs": [
    {
     "data": {
      "text/plain": [
       "['Avacado_avirageprice.pkl']"
      ]
     },
     "execution_count": 75,
     "metadata": {},
     "output_type": "execute_result"
    }
   ],
   "source": [
    "#Saving Adaboost Model\n",
    "import joblib\n",
    "joblib.dump(rf,'Avacado_avirageprice.pkl')"
   ]
  },
  {
   "cell_type": "code",
   "execution_count": null,
   "metadata": {},
   "outputs": [],
   "source": []
  }
 ],
 "metadata": {
  "kernelspec": {
   "display_name": "Python 3",
   "language": "python",
   "name": "python3"
  }
 },
 "nbformat": 4,
 "nbformat_minor": 4
}
